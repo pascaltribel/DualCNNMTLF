{
 "cells": [
  {
   "cell_type": "markdown",
   "id": "277e7d19-4ccd-4109-bcfb-c696df7aaf90",
   "metadata": {},
   "source": [
    "# Belgian Total Load 30-hours ahead forecasting\n",
    "## Introduction\n",
    "\n",
    "## Data preparation\n",
    "We load a buch of libraries:"
   ]
  },
  {
   "cell_type": "code",
   "execution_count": 1,
   "id": "9af222fd-02b5-4acc-81bd-ac58109b0f7d",
   "metadata": {},
   "outputs": [],
   "source": [
    "import numpy as np\n",
    "import torch\n",
    "import torch.nn as nn\n",
    "import torch.optim as optim\n",
    "from torch.utils.data import Dataset, DataLoader, Subset\n",
    "from tqdm.auto import tqdm\n",
    "import matplotlib.pyplot as plt \n",
    "import pandas as pd\n",
    "import sklearn\n",
    "from sklearn.model_selection import KFold\n",
    "import time"
   ]
  },
  {
   "cell_type": "markdown",
   "id": "8b627812-3826-4610-86cd-104872b1e03e",
   "metadata": {},
   "source": [
    "The most important part of the used dataset if downloaded from _https://opendata.elia.be/explore/dataset/ods001/export/?sort=datetime_ . It contains measurements of the Belgian Total Load every 15 minutes, along with provided forecasts. We will consider, in this notebook, the _Most recent forecast_ as the baseline. This forecast (seems to be) made 30 hours before the time point it is linked to."
   ]
  },
  {
   "cell_type": "code",
   "execution_count": 2,
   "id": "a7a9bbc9-351b-4c8b-91f2-541e883189b9",
   "metadata": {},
   "outputs": [],
   "source": [
    "load = pd.read_csv(\"ods001.csv\", delimiter=';')\n",
    "load[\"Datetime\"] = pd.to_datetime(load[\"Datetime\"], utc=True)\n",
    "load[\"Datetime\"] = load[\"Datetime\"].dt.tz_convert('UTC') "
   ]
  },
  {
   "cell_type": "markdown",
   "id": "f9ddb520-6bee-4325-8056-be3effc7312f",
   "metadata": {},
   "source": [
    "Additionally, we download meteorological data from _https://opendata.meteo.be/download_, which allows us to get hourly measurements on the whole Belgian territory. Since the 15-minutes data from ELIA seems to interpolated between hourly-measured data, we will use the hourly measurement as a timestep."
   ]
  },
  {
   "cell_type": "code",
   "execution_count": 3,
   "id": "1d7e739d-3796-43c6-914d-51fb25463721",
   "metadata": {},
   "outputs": [],
   "source": [
    "weather = pd.read_csv(\"weather.csv\", index_col=0)\n",
    "weather[\"Timestamp\"] = pd.to_datetime(weather[\"Timestamp\"])\n",
    "weather[\"Timestamp\"] = weather[\"Timestamp\"].dt.tz_localize('UTC')"
   ]
  },
  {
   "cell_type": "markdown",
   "id": "cb5e2ef5-6d49-4c79-b3df-031e4f5a2882",
   "metadata": {},
   "source": [
    "Finally, from _https://opendata.elia.be/explore/dataset/ods047/export/_, we get information about the 15-minutes measurement of the system imbalance, that is (according to _https://www.emissions-euets.com/imbalances_) \"_deviations between generation, consumption and commercial transactions of a balance responsible parties (BRPs) within a given imbalance settlement period._\"."
   ]
  },
  {
   "cell_type": "code",
   "execution_count": 4,
   "id": "dc6ca01b-7a20-4b8d-9462-44da14a2a0ab",
   "metadata": {},
   "outputs": [],
   "source": [
    "prices1 = pd.read_csv(\"ods047.csv\", delimiter=';')\n",
    "prices1[\"Datetime\"] = prices1[\"DateTime\"]\n",
    "prices1 = prices1.drop([\"DateTime\"], axis=1)\n",
    "prices2 = pd.read_csv(\"ods134.csv\", delimiter=';')\n",
    "prices = pd.concat([prices2, prices1])\n",
    "prices[\"Datetime\"] = pd.to_datetime(prices[\"Datetime\"], utc=True)\n",
    "prices[\"Datetime\"] = prices[\"Datetime\"].dt.tz_convert('UTC') "
   ]
  },
  {
   "cell_type": "code",
   "execution_count": 5,
   "id": "49db4e30-3ce3-46ff-b59c-7f8f2790c57f",
   "metadata": {},
   "outputs": [
    {
     "data": {
      "text/html": [
       "<div>\n",
       "<style scoped>\n",
       "    .dataframe tbody tr th:only-of-type {\n",
       "        vertical-align: middle;\n",
       "    }\n",
       "\n",
       "    .dataframe tbody tr th {\n",
       "        vertical-align: top;\n",
       "    }\n",
       "\n",
       "    .dataframe thead th {\n",
       "        text-align: right;\n",
       "    }\n",
       "</style>\n",
       "<table border=\"1\" class=\"dataframe\">\n",
       "  <thead>\n",
       "    <tr style=\"text-align: right;\">\n",
       "      <th></th>\n",
       "      <th>Datetime</th>\n",
       "      <th>Resolution code</th>\n",
       "      <th>Quality status</th>\n",
       "      <th>ACE</th>\n",
       "      <th>System imbalance</th>\n",
       "      <th>Alpha</th>\n",
       "      <th>Alpha'</th>\n",
       "      <th>Marginal incremental price</th>\n",
       "      <th>Marginal decremental price</th>\n",
       "      <th>Imbalance Price</th>\n",
       "      <th>Net regulation volume</th>\n",
       "      <th>Strategic reserve price</th>\n",
       "      <th>Positive imbalance price</th>\n",
       "      <th>Negative imbalance price</th>\n",
       "    </tr>\n",
       "  </thead>\n",
       "  <tbody>\n",
       "    <tr>\n",
       "      <th>0</th>\n",
       "      <td>2025-03-25 05:15:00+00:00</td>\n",
       "      <td>PT15M</td>\n",
       "      <td>DataIssue</td>\n",
       "      <td>-1.730</td>\n",
       "      <td>-15.834</td>\n",
       "      <td>0.00</td>\n",
       "      <td>0.0</td>\n",
       "      <td>109.00</td>\n",
       "      <td>94.417</td>\n",
       "      <td>109.000</td>\n",
       "      <td>NaN</td>\n",
       "      <td>NaN</td>\n",
       "      <td>NaN</td>\n",
       "      <td>NaN</td>\n",
       "    </tr>\n",
       "    <tr>\n",
       "      <th>1</th>\n",
       "      <td>2025-03-25 05:00:00+00:00</td>\n",
       "      <td>PT15M</td>\n",
       "      <td>DataIssue</td>\n",
       "      <td>-11.114</td>\n",
       "      <td>10.882</td>\n",
       "      <td>0.00</td>\n",
       "      <td>0.0</td>\n",
       "      <td>115.00</td>\n",
       "      <td>109.650</td>\n",
       "      <td>109.650</td>\n",
       "      <td>NaN</td>\n",
       "      <td>NaN</td>\n",
       "      <td>NaN</td>\n",
       "      <td>NaN</td>\n",
       "    </tr>\n",
       "    <tr>\n",
       "      <th>2</th>\n",
       "      <td>2025-03-25 04:45:00+00:00</td>\n",
       "      <td>PT15M</td>\n",
       "      <td>DataIssue</td>\n",
       "      <td>11.262</td>\n",
       "      <td>0.105</td>\n",
       "      <td>0.00</td>\n",
       "      <td>0.0</td>\n",
       "      <td>115.00</td>\n",
       "      <td>107.550</td>\n",
       "      <td>107.550</td>\n",
       "      <td>NaN</td>\n",
       "      <td>NaN</td>\n",
       "      <td>NaN</td>\n",
       "      <td>NaN</td>\n",
       "    </tr>\n",
       "    <tr>\n",
       "      <th>3</th>\n",
       "      <td>2025-03-25 04:30:00+00:00</td>\n",
       "      <td>PT15M</td>\n",
       "      <td>DataIssue</td>\n",
       "      <td>-1.029</td>\n",
       "      <td>-34.470</td>\n",
       "      <td>0.00</td>\n",
       "      <td>0.0</td>\n",
       "      <td>115.00</td>\n",
       "      <td>91.823</td>\n",
       "      <td>115.000</td>\n",
       "      <td>NaN</td>\n",
       "      <td>NaN</td>\n",
       "      <td>NaN</td>\n",
       "      <td>NaN</td>\n",
       "    </tr>\n",
       "    <tr>\n",
       "      <th>4</th>\n",
       "      <td>2025-03-25 04:15:00+00:00</td>\n",
       "      <td>PT15M</td>\n",
       "      <td>DataIssue</td>\n",
       "      <td>13.771</td>\n",
       "      <td>79.082</td>\n",
       "      <td>0.00</td>\n",
       "      <td>0.0</td>\n",
       "      <td>115.00</td>\n",
       "      <td>80.594</td>\n",
       "      <td>80.594</td>\n",
       "      <td>NaN</td>\n",
       "      <td>NaN</td>\n",
       "      <td>NaN</td>\n",
       "      <td>NaN</td>\n",
       "    </tr>\n",
       "    <tr>\n",
       "      <th>...</th>\n",
       "      <td>...</td>\n",
       "      <td>...</td>\n",
       "      <td>...</td>\n",
       "      <td>...</td>\n",
       "      <td>...</td>\n",
       "      <td>...</td>\n",
       "      <td>...</td>\n",
       "      <td>...</td>\n",
       "      <td>...</td>\n",
       "      <td>...</td>\n",
       "      <td>...</td>\n",
       "      <td>...</td>\n",
       "      <td>...</td>\n",
       "      <td>...</td>\n",
       "    </tr>\n",
       "    <tr>\n",
       "      <th>329175</th>\n",
       "      <td>2015-01-01 00:00:00+00:00</td>\n",
       "      <td>PT15M</td>\n",
       "      <td>Validated</td>\n",
       "      <td>NaN</td>\n",
       "      <td>-258.271</td>\n",
       "      <td>2.82</td>\n",
       "      <td>NaN</td>\n",
       "      <td>54.28</td>\n",
       "      <td>0.000</td>\n",
       "      <td>NaN</td>\n",
       "      <td>146.973</td>\n",
       "      <td>NaN</td>\n",
       "      <td>54.28</td>\n",
       "      <td>57.1</td>\n",
       "    </tr>\n",
       "    <tr>\n",
       "      <th>329176</th>\n",
       "      <td>2014-12-31 23:45:00+00:00</td>\n",
       "      <td>PT15M</td>\n",
       "      <td>Validated</td>\n",
       "      <td>NaN</td>\n",
       "      <td>-75.905</td>\n",
       "      <td>0.00</td>\n",
       "      <td>NaN</td>\n",
       "      <td>100.50</td>\n",
       "      <td>31.640</td>\n",
       "      <td>NaN</td>\n",
       "      <td>28.478</td>\n",
       "      <td>NaN</td>\n",
       "      <td>100.50</td>\n",
       "      <td>100.5</td>\n",
       "    </tr>\n",
       "    <tr>\n",
       "      <th>329177</th>\n",
       "      <td>2014-12-31 23:30:00+00:00</td>\n",
       "      <td>PT15M</td>\n",
       "      <td>Validated</td>\n",
       "      <td>NaN</td>\n",
       "      <td>-83.364</td>\n",
       "      <td>0.00</td>\n",
       "      <td>NaN</td>\n",
       "      <td>100.50</td>\n",
       "      <td>30.960</td>\n",
       "      <td>NaN</td>\n",
       "      <td>81.543</td>\n",
       "      <td>NaN</td>\n",
       "      <td>100.50</td>\n",
       "      <td>100.5</td>\n",
       "    </tr>\n",
       "    <tr>\n",
       "      <th>329178</th>\n",
       "      <td>2014-12-31 23:15:00+00:00</td>\n",
       "      <td>PT15M</td>\n",
       "      <td>Validated</td>\n",
       "      <td>NaN</td>\n",
       "      <td>-135.934</td>\n",
       "      <td>0.00</td>\n",
       "      <td>NaN</td>\n",
       "      <td>100.50</td>\n",
       "      <td>31.300</td>\n",
       "      <td>NaN</td>\n",
       "      <td>177.497</td>\n",
       "      <td>NaN</td>\n",
       "      <td>100.50</td>\n",
       "      <td>100.5</td>\n",
       "    </tr>\n",
       "    <tr>\n",
       "      <th>329179</th>\n",
       "      <td>2014-12-31 23:00:00+00:00</td>\n",
       "      <td>PT15M</td>\n",
       "      <td>Validated</td>\n",
       "      <td>NaN</td>\n",
       "      <td>-413.809</td>\n",
       "      <td>2.07</td>\n",
       "      <td>NaN</td>\n",
       "      <td>55.73</td>\n",
       "      <td>31.900</td>\n",
       "      <td>NaN</td>\n",
       "      <td>94.888</td>\n",
       "      <td>NaN</td>\n",
       "      <td>55.73</td>\n",
       "      <td>57.8</td>\n",
       "    </tr>\n",
       "  </tbody>\n",
       "</table>\n",
       "<p>358682 rows × 14 columns</p>\n",
       "</div>"
      ],
      "text/plain": [
       "                        Datetime Resolution code Quality status     ACE  \\\n",
       "0      2025-03-25 05:15:00+00:00           PT15M      DataIssue  -1.730   \n",
       "1      2025-03-25 05:00:00+00:00           PT15M      DataIssue -11.114   \n",
       "2      2025-03-25 04:45:00+00:00           PT15M      DataIssue  11.262   \n",
       "3      2025-03-25 04:30:00+00:00           PT15M      DataIssue  -1.029   \n",
       "4      2025-03-25 04:15:00+00:00           PT15M      DataIssue  13.771   \n",
       "...                          ...             ...            ...     ...   \n",
       "329175 2015-01-01 00:00:00+00:00           PT15M      Validated     NaN   \n",
       "329176 2014-12-31 23:45:00+00:00           PT15M      Validated     NaN   \n",
       "329177 2014-12-31 23:30:00+00:00           PT15M      Validated     NaN   \n",
       "329178 2014-12-31 23:15:00+00:00           PT15M      Validated     NaN   \n",
       "329179 2014-12-31 23:00:00+00:00           PT15M      Validated     NaN   \n",
       "\n",
       "        System imbalance  Alpha  Alpha'  Marginal incremental price  \\\n",
       "0                -15.834   0.00     0.0                      109.00   \n",
       "1                 10.882   0.00     0.0                      115.00   \n",
       "2                  0.105   0.00     0.0                      115.00   \n",
       "3                -34.470   0.00     0.0                      115.00   \n",
       "4                 79.082   0.00     0.0                      115.00   \n",
       "...                  ...    ...     ...                         ...   \n",
       "329175          -258.271   2.82     NaN                       54.28   \n",
       "329176           -75.905   0.00     NaN                      100.50   \n",
       "329177           -83.364   0.00     NaN                      100.50   \n",
       "329178          -135.934   0.00     NaN                      100.50   \n",
       "329179          -413.809   2.07     NaN                       55.73   \n",
       "\n",
       "        Marginal decremental price  Imbalance Price  Net regulation volume  \\\n",
       "0                           94.417          109.000                    NaN   \n",
       "1                          109.650          109.650                    NaN   \n",
       "2                          107.550          107.550                    NaN   \n",
       "3                           91.823          115.000                    NaN   \n",
       "4                           80.594           80.594                    NaN   \n",
       "...                            ...              ...                    ...   \n",
       "329175                       0.000              NaN                146.973   \n",
       "329176                      31.640              NaN                 28.478   \n",
       "329177                      30.960              NaN                 81.543   \n",
       "329178                      31.300              NaN                177.497   \n",
       "329179                      31.900              NaN                 94.888   \n",
       "\n",
       "        Strategic reserve price  Positive imbalance price  \\\n",
       "0                           NaN                       NaN   \n",
       "1                           NaN                       NaN   \n",
       "2                           NaN                       NaN   \n",
       "3                           NaN                       NaN   \n",
       "4                           NaN                       NaN   \n",
       "...                         ...                       ...   \n",
       "329175                      NaN                     54.28   \n",
       "329176                      NaN                    100.50   \n",
       "329177                      NaN                    100.50   \n",
       "329178                      NaN                    100.50   \n",
       "329179                      NaN                     55.73   \n",
       "\n",
       "        Negative imbalance price  \n",
       "0                            NaN  \n",
       "1                            NaN  \n",
       "2                            NaN  \n",
       "3                            NaN  \n",
       "4                            NaN  \n",
       "...                          ...  \n",
       "329175                      57.1  \n",
       "329176                     100.5  \n",
       "329177                     100.5  \n",
       "329178                     100.5  \n",
       "329179                      57.8  \n",
       "\n",
       "[358682 rows x 14 columns]"
      ]
     },
     "execution_count": 5,
     "metadata": {},
     "output_type": "execute_result"
    }
   ],
   "source": [
    "prices"
   ]
  },
  {
   "cell_type": "markdown",
   "id": "6c988ba7-0877-4825-ba3c-bd7c13420188",
   "metadata": {},
   "source": [
    "By inner-merging the load and the prices on the _Datetime_ columns, we keep the 15-minutes time granularity:"
   ]
  },
  {
   "cell_type": "code",
   "execution_count": 6,
   "id": "2b5ce2a8-5c16-4a8d-98ca-d41c42ad6257",
   "metadata": {},
   "outputs": [],
   "source": [
    "load_prices = pd.merge(load, prices, left_on='Datetime', right_on='Datetime', how='inner')"
   ]
  },
  {
   "cell_type": "markdown",
   "id": "c582e563-5973-43eb-b1b4-4aa935e1657a",
   "metadata": {},
   "source": [
    "We only keep the following columns from the load/imbalance datasets:"
   ]
  },
  {
   "cell_type": "code",
   "execution_count": 7,
   "id": "4f27276e-709d-4bd9-81f8-5b09cf68125b",
   "metadata": {},
   "outputs": [],
   "source": [
    "keep_columns_load_prices = ['Datetime', 'Total Load', 'Most recent forecast', 'System imbalance']\n",
    "load_prices = load_prices[keep_columns_load_prices]"
   ]
  },
  {
   "cell_type": "markdown",
   "id": "8bf747bc-2af0-4a21-80c8-d32daadae1c2",
   "metadata": {},
   "source": [
    "Then, we preprocess the _weather_ data. First, we keep informations about the location of the measurement stations, the timestamp of each measure, the precipitations, temperatures, wind speed and pressure:"
   ]
  },
  {
   "cell_type": "code",
   "execution_count": 8,
   "id": "fb48af45-c630-4462-a401-d9436e489aae",
   "metadata": {},
   "outputs": [],
   "source": [
    "full_data = pd.merge(load_prices, weather, left_on='Datetime', right_on='Timestamp', how='inner').drop(\"Timestamp\", axis=1)"
   ]
  },
  {
   "cell_type": "markdown",
   "id": "84d825b1-f716-47cf-a955-ef94e3970b58",
   "metadata": {},
   "source": [
    "In order to complete the missing data, we perform a forward fill and a backward fill."
   ]
  },
  {
   "cell_type": "code",
   "execution_count": 9,
   "id": "dc5567e8-ea69-43f2-9983-2b5cee971e72",
   "metadata": {},
   "outputs": [],
   "source": [
    "full_data = full_data.ffill().bfill()\n",
    "full_data = full_data.iloc[::-1].reset_index(drop=True)"
   ]
  },
  {
   "cell_type": "markdown",
   "id": "ae094f82-e5d0-4b44-a1f2-a8bb31002005",
   "metadata": {},
   "source": [
    "We add the target column, which is, for each timestep, the _Total Load_ value $30$ steps later. Since there will be meaningless missing data, we discard the $30$ last lines."
   ]
  },
  {
   "cell_type": "code",
   "execution_count": 10,
   "id": "bdbd95ee-8fca-4bbb-8e88-d618be9cafa9",
   "metadata": {},
   "outputs": [],
   "source": [
    "full_data[\"y\"] = full_data[\"Total Load\"].shift(-30)\n",
    "full_data = full_data.iloc[:-30]"
   ]
  },
  {
   "cell_type": "code",
   "execution_count": 15,
   "id": "a4317a05-0655-4c1d-b597-b7a851910467",
   "metadata": {},
   "outputs": [],
   "source": [
    "full_data[\"Total Load 1 Year Before, to the FH\"] = full_data[\"Total Load\"].shift(24 * 365 + 30)\n",
    "full_data = full_data.iloc[365*24+30:]\n",
    "full_data = full_data.reset_index().drop(['index'], axis=1)"
   ]
  },
  {
   "cell_type": "code",
   "execution_count": 16,
   "id": "2a891040-dba2-4127-ba9b-726e72b0a61c",
   "metadata": {},
   "outputs": [
    {
     "data": {
      "text/html": [
       "<div>\n",
       "<style scoped>\n",
       "    .dataframe tbody tr th:only-of-type {\n",
       "        vertical-align: middle;\n",
       "    }\n",
       "\n",
       "    .dataframe tbody tr th {\n",
       "        vertical-align: top;\n",
       "    }\n",
       "\n",
       "    .dataframe thead th {\n",
       "        text-align: right;\n",
       "    }\n",
       "</style>\n",
       "<table border=\"1\" class=\"dataframe\">\n",
       "  <thead>\n",
       "    <tr style=\"text-align: right;\">\n",
       "      <th></th>\n",
       "      <th>Datetime</th>\n",
       "      <th>Total Load</th>\n",
       "      <th>Most recent forecast</th>\n",
       "      <th>System imbalance</th>\n",
       "      <th>Temperature</th>\n",
       "      <th>Precipitation</th>\n",
       "      <th>Wind</th>\n",
       "      <th>Pressure</th>\n",
       "      <th>y</th>\n",
       "      <th>Total Load 1 Year Before, to the FH</th>\n",
       "    </tr>\n",
       "  </thead>\n",
       "  <tbody>\n",
       "    <tr>\n",
       "      <th>58314</th>\n",
       "      <td>2025-03-23 14:00:00+00:00</td>\n",
       "      <td>7860.14</td>\n",
       "      <td>7615.53</td>\n",
       "      <td>106.149</td>\n",
       "      <td>14.472222</td>\n",
       "      <td>0.0</td>\n",
       "      <td>12.538889</td>\n",
       "      <td>1003.994444</td>\n",
       "      <td>9689.19</td>\n",
       "      <td>10378.82</td>\n",
       "    </tr>\n",
       "    <tr>\n",
       "      <th>58315</th>\n",
       "      <td>2025-03-23 15:00:00+00:00</td>\n",
       "      <td>7925.65</td>\n",
       "      <td>7997.14</td>\n",
       "      <td>124.917</td>\n",
       "      <td>14.161111</td>\n",
       "      <td>0.0</td>\n",
       "      <td>12.050000</td>\n",
       "      <td>1004.450000</td>\n",
       "      <td>9286.44</td>\n",
       "      <td>10382.82</td>\n",
       "    </tr>\n",
       "    <tr>\n",
       "      <th>58316</th>\n",
       "      <td>2025-03-23 16:00:00+00:00</td>\n",
       "      <td>8280.81</td>\n",
       "      <td>8292.08</td>\n",
       "      <td>14.345</td>\n",
       "      <td>13.755556</td>\n",
       "      <td>0.0</td>\n",
       "      <td>10.533333</td>\n",
       "      <td>1004.761111</td>\n",
       "      <td>9074.52</td>\n",
       "      <td>10302.67</td>\n",
       "    </tr>\n",
       "    <tr>\n",
       "      <th>58317</th>\n",
       "      <td>2025-03-23 17:00:00+00:00</td>\n",
       "      <td>8723.63</td>\n",
       "      <td>8888.86</td>\n",
       "      <td>-31.319</td>\n",
       "      <td>13.227778</td>\n",
       "      <td>0.0</td>\n",
       "      <td>7.622222</td>\n",
       "      <td>1005.166667</td>\n",
       "      <td>8700.10</td>\n",
       "      <td>10243.42</td>\n",
       "    </tr>\n",
       "    <tr>\n",
       "      <th>58318</th>\n",
       "      <td>2025-03-23 18:00:00+00:00</td>\n",
       "      <td>9185.82</td>\n",
       "      <td>9309.39</td>\n",
       "      <td>-150.816</td>\n",
       "      <td>12.194444</td>\n",
       "      <td>0.0</td>\n",
       "      <td>4.788889</td>\n",
       "      <td>1005.883333</td>\n",
       "      <td>8098.00</td>\n",
       "      <td>10388.65</td>\n",
       "    </tr>\n",
       "  </tbody>\n",
       "</table>\n",
       "</div>"
      ],
      "text/plain": [
       "                       Datetime  Total Load  Most recent forecast  \\\n",
       "58314 2025-03-23 14:00:00+00:00     7860.14               7615.53   \n",
       "58315 2025-03-23 15:00:00+00:00     7925.65               7997.14   \n",
       "58316 2025-03-23 16:00:00+00:00     8280.81               8292.08   \n",
       "58317 2025-03-23 17:00:00+00:00     8723.63               8888.86   \n",
       "58318 2025-03-23 18:00:00+00:00     9185.82               9309.39   \n",
       "\n",
       "       System imbalance  Temperature  Precipitation       Wind     Pressure  \\\n",
       "58314           106.149    14.472222            0.0  12.538889  1003.994444   \n",
       "58315           124.917    14.161111            0.0  12.050000  1004.450000   \n",
       "58316            14.345    13.755556            0.0  10.533333  1004.761111   \n",
       "58317           -31.319    13.227778            0.0   7.622222  1005.166667   \n",
       "58318          -150.816    12.194444            0.0   4.788889  1005.883333   \n",
       "\n",
       "             y  Total Load 1 Year Before, to the FH  \n",
       "58314  9689.19                             10378.82  \n",
       "58315  9286.44                             10382.82  \n",
       "58316  9074.52                             10302.67  \n",
       "58317  8700.10                             10243.42  \n",
       "58318  8098.00                             10388.65  "
      ]
     },
     "execution_count": 16,
     "metadata": {},
     "output_type": "execute_result"
    }
   ],
   "source": [
    "full_data.tail()"
   ]
  },
  {
   "cell_type": "markdown",
   "id": "0aa4b9d6-b13e-4b2c-bc44-f8f3e29ee0a3",
   "metadata": {},
   "source": [
    "We save the generated dataset:"
   ]
  },
  {
   "cell_type": "code",
   "execution_count": 17,
   "id": "69b52053-4f97-474f-95fc-ee26c9342f16",
   "metadata": {},
   "outputs": [],
   "source": [
    "full_data.to_csv(\"dataset.csv\")"
   ]
  },
  {
   "cell_type": "markdown",
   "id": "7e7d2eb1-bc38-4845-bbc7-47f8f61a4973",
   "metadata": {},
   "source": [
    "## Modeling\n",
    "The first part of the notebook can be avoided if the `dataset.csv` file has already been generated. We can load it:"
   ]
  },
  {
   "cell_type": "code",
   "execution_count": 18,
   "id": "8bc20bbc-8a25-4c28-8e43-fc5a18d71602",
   "metadata": {},
   "outputs": [],
   "source": [
    "data = full_data"
   ]
  },
  {
   "cell_type": "code",
   "execution_count": 19,
   "id": "3603cd48-684f-4f09-975d-25de03762c21",
   "metadata": {},
   "outputs": [
    {
     "data": {
      "text/html": [
       "<div>\n",
       "<style scoped>\n",
       "    .dataframe tbody tr th:only-of-type {\n",
       "        vertical-align: middle;\n",
       "    }\n",
       "\n",
       "    .dataframe tbody tr th {\n",
       "        vertical-align: top;\n",
       "    }\n",
       "\n",
       "    .dataframe thead th {\n",
       "        text-align: right;\n",
       "    }\n",
       "</style>\n",
       "<table border=\"1\" class=\"dataframe\">\n",
       "  <thead>\n",
       "    <tr style=\"text-align: right;\">\n",
       "      <th></th>\n",
       "      <th>Total Load</th>\n",
       "      <th>Most recent forecast</th>\n",
       "      <th>System imbalance</th>\n",
       "      <th>Temperature</th>\n",
       "      <th>Precipitation</th>\n",
       "      <th>Wind</th>\n",
       "      <th>Pressure</th>\n",
       "      <th>y</th>\n",
       "      <th>Total Load 1 Year Before, to the FH</th>\n",
       "    </tr>\n",
       "  </thead>\n",
       "  <tbody>\n",
       "    <tr>\n",
       "      <th>count</th>\n",
       "      <td>58319.000000</td>\n",
       "      <td>58319.000000</td>\n",
       "      <td>58319.000000</td>\n",
       "      <td>58319.000000</td>\n",
       "      <td>58319.000000</td>\n",
       "      <td>58319.000000</td>\n",
       "      <td>58319.000000</td>\n",
       "      <td>58319.000000</td>\n",
       "      <td>58319.000000</td>\n",
       "    </tr>\n",
       "    <tr>\n",
       "      <th>mean</th>\n",
       "      <td>9415.441845</td>\n",
       "      <td>9377.541405</td>\n",
       "      <td>-27.369911</td>\n",
       "      <td>11.531556</td>\n",
       "      <td>0.098052</td>\n",
       "      <td>14.676936</td>\n",
       "      <td>1016.079219</td>\n",
       "      <td>9415.936052</td>\n",
       "      <td>9532.994798</td>\n",
       "    </tr>\n",
       "    <tr>\n",
       "      <th>std</th>\n",
       "      <td>1344.024368</td>\n",
       "      <td>1320.753285</td>\n",
       "      <td>181.566496</td>\n",
       "      <td>6.272604</td>\n",
       "      <td>0.336122</td>\n",
       "      <td>7.327084</td>\n",
       "      <td>10.515473</td>\n",
       "      <td>1343.836674</td>\n",
       "      <td>1359.678899</td>\n",
       "    </tr>\n",
       "    <tr>\n",
       "      <th>min</th>\n",
       "      <td>5977.220000</td>\n",
       "      <td>6036.740000</td>\n",
       "      <td>-1601.812000</td>\n",
       "      <td>-7.277778</td>\n",
       "      <td>0.000000</td>\n",
       "      <td>2.533333</td>\n",
       "      <td>968.866667</td>\n",
       "      <td>5977.220000</td>\n",
       "      <td>5977.220000</td>\n",
       "    </tr>\n",
       "    <tr>\n",
       "      <th>25%</th>\n",
       "      <td>8364.190000</td>\n",
       "      <td>8343.325000</td>\n",
       "      <td>-129.681500</td>\n",
       "      <td>6.983333</td>\n",
       "      <td>0.000000</td>\n",
       "      <td>9.094444</td>\n",
       "      <td>1009.950000</td>\n",
       "      <td>8364.825000</td>\n",
       "      <td>8472.990000</td>\n",
       "    </tr>\n",
       "    <tr>\n",
       "      <th>50%</th>\n",
       "      <td>9400.380000</td>\n",
       "      <td>9365.840000</td>\n",
       "      <td>-23.671000</td>\n",
       "      <td>11.138889</td>\n",
       "      <td>0.000000</td>\n",
       "      <td>13.261111</td>\n",
       "      <td>1016.805556</td>\n",
       "      <td>9401.150000</td>\n",
       "      <td>9523.720000</td>\n",
       "    </tr>\n",
       "    <tr>\n",
       "      <th>75%</th>\n",
       "      <td>10373.840000</td>\n",
       "      <td>10329.365000</td>\n",
       "      <td>74.273500</td>\n",
       "      <td>16.044444</td>\n",
       "      <td>0.025000</td>\n",
       "      <td>18.905556</td>\n",
       "      <td>1023.083333</td>\n",
       "      <td>10373.840000</td>\n",
       "      <td>10518.245000</td>\n",
       "    </tr>\n",
       "    <tr>\n",
       "      <th>max</th>\n",
       "      <td>13655.720000</td>\n",
       "      <td>13976.720000</td>\n",
       "      <td>1991.944000</td>\n",
       "      <td>39.000000</td>\n",
       "      <td>17.000000</td>\n",
       "      <td>62.494444</td>\n",
       "      <td>1049.200000</td>\n",
       "      <td>13655.720000</td>\n",
       "      <td>13655.720000</td>\n",
       "    </tr>\n",
       "  </tbody>\n",
       "</table>\n",
       "</div>"
      ],
      "text/plain": [
       "         Total Load  Most recent forecast  System imbalance   Temperature  \\\n",
       "count  58319.000000          58319.000000      58319.000000  58319.000000   \n",
       "mean    9415.441845           9377.541405        -27.369911     11.531556   \n",
       "std     1344.024368           1320.753285        181.566496      6.272604   \n",
       "min     5977.220000           6036.740000      -1601.812000     -7.277778   \n",
       "25%     8364.190000           8343.325000       -129.681500      6.983333   \n",
       "50%     9400.380000           9365.840000        -23.671000     11.138889   \n",
       "75%    10373.840000          10329.365000         74.273500     16.044444   \n",
       "max    13655.720000          13976.720000       1991.944000     39.000000   \n",
       "\n",
       "       Precipitation          Wind      Pressure             y  \\\n",
       "count   58319.000000  58319.000000  58319.000000  58319.000000   \n",
       "mean        0.098052     14.676936   1016.079219   9415.936052   \n",
       "std         0.336122      7.327084     10.515473   1343.836674   \n",
       "min         0.000000      2.533333    968.866667   5977.220000   \n",
       "25%         0.000000      9.094444   1009.950000   8364.825000   \n",
       "50%         0.000000     13.261111   1016.805556   9401.150000   \n",
       "75%         0.025000     18.905556   1023.083333  10373.840000   \n",
       "max        17.000000     62.494444   1049.200000  13655.720000   \n",
       "\n",
       "       Total Load 1 Year Before, to the FH  \n",
       "count                         58319.000000  \n",
       "mean                           9532.994798  \n",
       "std                            1359.678899  \n",
       "min                            5977.220000  \n",
       "25%                            8472.990000  \n",
       "50%                            9523.720000  \n",
       "75%                           10518.245000  \n",
       "max                           13655.720000  "
      ]
     },
     "execution_count": 19,
     "metadata": {},
     "output_type": "execute_result"
    }
   ],
   "source": [
    "data.describe()"
   ]
  },
  {
   "cell_type": "markdown",
   "id": "582115da-cccb-48f4-b59e-9c4182e5d977",
   "metadata": {},
   "source": [
    "### Persistence study\n",
    "We can study how a simple persistent model would do. Of course, since we deal with data that might have periodicity, which previous timestep to make persist is an open question. We show that there are better timesteps to use:"
   ]
  },
  {
   "cell_type": "code",
   "execution_count": 20,
   "id": "41e24afb-42cb-49bf-9876-0f09a0e6124c",
   "metadata": {},
   "outputs": [
    {
     "data": {
      "application/vnd.jupyter.widget-view+json": {
       "model_id": "9dc97c8628af4125beb4859c543185bf",
       "version_major": 2,
       "version_minor": 0
      },
      "text/plain": [
       "  0%|          | 0/17520 [00:00<?, ?it/s]"
      ]
     },
     "metadata": {},
     "output_type": "display_data"
    }
   ],
   "source": [
    "rmse_by_lag = []\n",
    "\n",
    "for t in tqdm(range(365*2*24)):\n",
    "    shifted_total_load = data[\"Total Load\"].shift(t)\n",
    "    rmse_by_lag.append(np.sqrt(np.mean((data[\"y\"]-shifted_total_load)**2)))"
   ]
  },
  {
   "cell_type": "code",
   "execution_count": 21,
   "id": "37ca11c0-75b5-41f3-8b92-1e87bce4b943",
   "metadata": {},
   "outputs": [
    {
     "data": {
      "image/png": "[encoded data removed]",
      "text/plain": [
       "<Figure size 2000x500 with 5 Axes>"
      ]
     },
     "metadata": {},
     "output_type": "display_data"
    }
   ],
   "source": [
    "fig, ax = plt.subplots(1, 5, figsize=(20, 5))\n",
    "ax[0].plot(rmse_by_lag[:24])\n",
    "ax[0].set_title(\"Daily persistence\")\n",
    "ax[1].plot(rmse_by_lag[:24*7])\n",
    "ax[1].set_title(\"Weekly persistence\")\n",
    "ax[2].plot(rmse_by_lag[:24*31])\n",
    "ax[2].set_title(\"Monthly persistence\")\n",
    "ax[3].plot(rmse_by_lag[:24*365])\n",
    "ax[3].set_title(\"Yearly persistence\")\n",
    "ax[4].plot(rmse_by_lag[:24*365*2])\n",
    "ax[4].set_title(\"2-Yearly persistence\")\n",
    "plt.savefig(\"rmse_by_lag.png\")\n",
    "plt.show()"
   ]
  },
  {
   "cell_type": "markdown",
   "id": "6dcfc3d4-6a9d-4ce0-85ef-895048e2cff0",
   "metadata": {},
   "source": [
    "Which clearly shows that there is a daily, weekly and yearly cycle. The monthly cycle is way less clear. To be clearer: there are preferable lags to use if we want to use the persistent model, then there is an optimal previous timestep that we can output. We clearly see that the 1-week persistence is the best to use here (that is, outputting the Total Load one week before the forecasted point)."
   ]
  },
  {
   "cell_type": "markdown",
   "id": "a1c5389b-f8c0-421f-a26f-f147fc8dc82f",
   "metadata": {},
   "source": [
    "We can also see that there there is a monthly and yearly cycle. We decide therefore three things:\n",
    "- We will use 1-month long measurements as input of the ML architecture (those contain the week-before FH and the month-before FH measurements)\n",
    "- We will include the measurements made 1 year before (up to the FH) as input to the ML architecture\n",
    "- We will use the 1-week before the FH measurement as a baseline that we will modify using a ML architecture"
   ]
  },
  {
   "cell_type": "code",
   "execution_count": 22,
   "id": "de61d4a0-f9d2-4b47-b326-a4308bea48f4",
   "metadata": {},
   "outputs": [],
   "source": [
    "features_load = ['Total Load',  'Total Load 1 Year Before, to the FH', 'System imbalance']\n",
    "features_meteo = ['Temperature', 'Precipitation', 'Wind', 'Pressure']\n",
    "features_baseline = ['Total Load']\n",
    "data[[\"Datetime\"]+features_load+features_meteo+[\"Most recent forecast\"]].to_csv(\"final_data.csv\")"
   ]
  },
  {
   "cell_type": "code",
   "execution_count": 23,
   "id": "3806426d-48c4-4b3b-b30d-679bfd727c6a",
   "metadata": {},
   "outputs": [],
   "source": [
    "device = \"cuda\" if torch.cuda.is_available() else \"mps\""
   ]
  },
  {
   "cell_type": "code",
   "execution_count": 24,
   "id": "4777cdc6-cccb-4052-949a-39ebc7da46a6",
   "metadata": {},
   "outputs": [],
   "source": [
    "GENERATING = True"
   ]
  },
  {
   "cell_type": "markdown",
   "id": "dd5712d6-198e-45db-ae53-b938df4b9c9b",
   "metadata": {},
   "source": [
    "### Inputs preparation\n",
    "Our ML architecture will then take three inputs:\n",
    "- The Load information: that is, 24*28 points of\n",
    "    - The total load\n",
    "    - The total load 1 year (+30hours) earlier\n",
    "    - The system imbalance\n",
    "- The meteo information, that is, 24*28 points of\n",
    "    - The temperature\n",
    "    - The precipitations\n",
    "    - The wind speed\n",
    "    - The pressure\n",
    "- The persistent forecast, that is, the Total Load 1 week before the forecasted point"
   ]
  },
  {
   "cell_type": "code",
   "execution_count": 25,
   "id": "bc863b17-2296-4a1f-9601-cc2664d60218",
   "metadata": {},
   "outputs": [
    {
     "data": {
      "application/vnd.jupyter.widget-view+json": {
       "model_id": "74a8d20f76d94ef6b42ab1d2fae8a2eb",
       "version_major": 2,
       "version_minor": 0
      },
      "text/plain": [
       "  0%|          | 0/57618 [00:00<?, ?it/s]"
      ]
     },
     "metadata": {},
     "output_type": "display_data"
    }
   ],
   "source": [
    "if GENERATING:\n",
    "    X_load = []\n",
    "    X_meteo = []\n",
    "    X_baseline = []\n",
    "    Y_elia = []\n",
    "    Y = []\n",
    "    \n",
    "    t_features = 24*28\n",
    "    features_load = ['Total Load',  'Total Load 1 Year Before, to the FH', 'System imbalance']\n",
    "    features_meteo = ['Temperature', 'Precipitation', 'Wind', 'Pressure']\n",
    "    features_baseline = ['Total Load']\n",
    "    \n",
    "    for start in tqdm(range(len(data) - t_features + 1 - 30)):\n",
    "        X_load.append(data.iloc[start:start + t_features][features_load].values.T)\n",
    "        X_meteo.append(data.iloc[start:start + t_features][features_meteo].values.T)\n",
    "        X_baseline.append(data.iloc[start + t_features - 1 + 30 - 7 * 24][features_baseline].values.flatten())\n",
    "        Y_elia.append(data.iloc[start + t_features - 1 + 30]['Most recent forecast'])\n",
    "        Y.append(data.iloc[start + t_features - 1]['y'])\n",
    "        \n",
    "    X_load = torch.tensor(np.array(X_load, dtype=np.float32)).to(device)\n",
    "    X_meteo = torch.tensor(np.array(X_meteo, dtype=np.float32)).to(device)\n",
    "    X_baseline = torch.tensor(np.array(X_baseline, dtype=np.float32)).to(device)\n",
    "    Y_elia = torch.tensor(np.array(Y_elia, dtype=np.float32)).to(device)\n",
    "    Y = torch.tensor(np.array(Y, dtype=np.float32)).to(device)\n",
    "    torch.save(X_load, \"X_load.pt\")\n",
    "    torch.save(X_meteo, \"X_meteo.pt\")\n",
    "    torch.save(X_baseline, \"X_baseline.pt\")\n",
    "    torch.save(Y_elia, \"Y_elia.pt\")\n",
    "    torch.save(Y, \"Y.pt\")\n",
    "else:\n",
    "    X_load = torch.load(\"X_load.pt\", weights_only=True).to(device)\n",
    "    X_meteo = torch.load(\"X_meteo.pt\", weights_only=True).to(device)\n",
    "    X_baseline = torch.load(\"X_baseline.pt\", weights_only=True).to(device)\n",
    "    Y_elia = torch.load(\"Y_elia.pt\", weights_only=True).to(device)\n",
    "    Y = torch.load(\"Y.pt\", weights_only=True).to(device)"
   ]
  },
  {
   "cell_type": "code",
   "execution_count": 26,
   "id": "0dcca166-a43c-4e37-a0af-d0b46a4028d0",
   "metadata": {},
   "outputs": [
    {
     "data": {
      "text/plain": [
       "torch.Size([4, 672])"
      ]
     },
     "execution_count": 26,
     "metadata": {},
     "output_type": "execute_result"
    }
   ],
   "source": [
    "X_meteo[0].shape"
   ]
  },
  {
   "cell_type": "markdown",
   "id": "df6d5b2d-758c-4f4b-83bb-2ed7f5c4b16d",
   "metadata": {},
   "source": [
    "### Model\n",
    "Our model then consists in three parts:\n",
    "- One CNN that extracts features from the load data\n",
    "    - Output vector size: (16,)\n",
    "- One CNN that extracts features from the weather data\n",
    "    - Output vector size: (16,)\n",
    "- One MLP that forecasts the 30-hours later Total Load, given\n",
    "    - The persistent value\n",
    "    - The two features vectors"
   ]
  },
  {
   "cell_type": "code",
   "execution_count": 27,
   "id": "87c2ffa0-c2ab-4fec-92fe-f2f39aae6d1b",
   "metadata": {},
   "outputs": [],
   "source": [
    "class ConvFeatureExtractor(nn.Module):\n",
    "    def __init__(self, mlp_size):\n",
    "        super(ConvFeatureExtractor, self).__init__()\n",
    "        self.dropout = nn.Dropout(0.05)\n",
    "        self.conv = nn.Conv2d(in_channels=1, out_channels=12, kernel_size=3, padding=\"same\")\n",
    "        self.conv2 = nn.Conv2d(in_channels=12, out_channels=1, kernel_size=3, padding=\"same\")\n",
    "        self.l1 = nn.Linear(mlp_size, 512)\n",
    "        self.l2 = nn.Linear(512, 256)\n",
    "        self.l3 = nn.Linear(256, 16)\n",
    "        self.tanh = nn.Tanh()\n",
    "    \n",
    "    def forward(self, x):\n",
    "        x = x.unsqueeze(1)\n",
    "        x = self.dropout(self.conv(x))\n",
    "        x = self.dropout(self.tanh(x))\n",
    "        x = self.dropout(self.conv2(x))\n",
    "        x = self.dropout(self.tanh(x.reshape((x.shape[0], -1))))\n",
    "        x = self.dropout(self.tanh(self.l1(x)))\n",
    "        x = self.dropout(self.tanh(self.l2(x)))\n",
    "        x = self.l3(x)\n",
    "        return x\n",
    "            \n",
    "class ForecastModel(nn.Module):\n",
    "    def __init__(self):\n",
    "        super(ForecastModel, self).__init__()\n",
    "        self.feature_extractor_load = ConvFeatureExtractor(mlp_size=2016)\n",
    "        self.feature_extractor_meteo = ConvFeatureExtractor(mlp_size=2688)\n",
    "        self.l1 = nn.Linear(16*2, 8)\n",
    "        self.l2 = nn.Linear(8, 1)\n",
    "    \n",
    "    def forward(self, x_load, x_meteo, x_baseline):\n",
    "        x = self.l1(torch.concatenate([self.feature_extractor_load(x_load), \n",
    "                                       self.feature_extractor_meteo(x_meteo)], axis=1))\n",
    "        x = self.l2(x)\n",
    "        return (x + x_baseline).squeeze()"
   ]
  },
  {
   "cell_type": "markdown",
   "id": "48cec452-57c3-414a-a76a-563be4562c4f",
   "metadata": {},
   "source": [
    "In order to correctly evaluate the performances of our model, we include in the dataset the `Most recent forecast` provided by ELIA, so that the cross-validation procedure assesses the quality of both our architecture and the ELIA baseline."
   ]
  },
  {
   "cell_type": "code",
   "execution_count": 28,
   "id": "f1e0625a-4120-4d2c-8416-926df9d0425c",
   "metadata": {},
   "outputs": [],
   "source": [
    "class TimeSeriesDataset(Dataset):\n",
    "    def __init__(self, X_load, X_meteo, X_baseline, y_elia, y):\n",
    "        self.X_load = X_load\n",
    "        self.X_meteo = X_meteo\n",
    "        self.X_baseline = X_baseline\n",
    "        self.y_elia = y_elia\n",
    "        self.y = y\n",
    "    \n",
    "    def __len__(self):\n",
    "        return len(self.y)\n",
    "    \n",
    "    def __getitem__(self, idx):\n",
    "        return self.X_load[idx], self.X_meteo[idx], self.X_baseline[idx], self.y_elia[idx], self.y[idx]"
   ]
  },
  {
   "cell_type": "markdown",
   "id": "c4e9ace4-ef2d-4330-9581-1e906bb69ac7",
   "metadata": {},
   "source": [
    "We prepare a 5-fold cross-validation."
   ]
  },
  {
   "cell_type": "code",
   "execution_count": 29,
   "id": "318114c0-cf62-4021-ac03-1f0ed364b694",
   "metadata": {},
   "outputs": [],
   "source": [
    "dataset = TimeSeriesDataset(X_load, X_meteo, X_baseline, Y_elia, Y)\n",
    "kf = KFold(n_splits=5, shuffle=True, random_state=42)"
   ]
  },
  {
   "cell_type": "markdown",
   "id": "6cbe1936-2ebf-49a4-b027-478a7f88c23b",
   "metadata": {},
   "source": [
    "Finally, we train and evaluate the model. The NN is trained for 30 epochs at each fold of the cross-validation."
   ]
  },
  {
   "cell_type": "code",
   "execution_count": 42,
   "id": "27326281-9349-4c98-9062-f46e1454feeb",
   "metadata": {},
   "outputs": [
    {
     "data": {
      "application/vnd.jupyter.widget-view+json": {
       "model_id": "1bdb2eb4aa674553b28a62c436e854a0",
       "version_major": 2,
       "version_minor": 0
      },
      "text/plain": [
       "  0%|          | 0/30 [00:00<?, ?it/s]"
      ]
     },
     "metadata": {},
     "output_type": "display_data"
    },
    {
     "data": {
      "application/vnd.jupyter.widget-view+json": {
       "model_id": "fbe65ab3bc534abd8c12ca37fbe1cb1a",
       "version_major": 2,
       "version_minor": 0
      },
      "text/plain": [
       "  0%|          | 0/30 [00:00<?, ?it/s]"
      ]
     },
     "metadata": {},
     "output_type": "display_data"
    },
    {
     "data": {
      "application/vnd.jupyter.widget-view+json": {
       "model_id": "b40bcfa34af741efb36ffdfc31539fb7",
       "version_major": 2,
       "version_minor": 0
      },
      "text/plain": [
       "  0%|          | 0/30 [00:00<?, ?it/s]"
      ]
     },
     "metadata": {},
     "output_type": "display_data"
    },
    {
     "data": {
      "application/vnd.jupyter.widget-view+json": {
       "model_id": "ea89b379023b4b2391bfcbf8de1aa9fc",
       "version_major": 2,
       "version_minor": 0
      },
      "text/plain": [
       "  0%|          | 0/30 [00:00<?, ?it/s]"
      ]
     },
     "metadata": {},
     "output_type": "display_data"
    },
    {
     "data": {
      "application/vnd.jupyter.widget-view+json": {
       "model_id": "d1ee10ce7b8d48669c2c1d030f40cf15",
       "version_major": 2,
       "version_minor": 0
      },
      "text/plain": [
       "  0%|          | 0/30 [00:00<?, ?it/s]"
      ]
     },
     "metadata": {},
     "output_type": "display_data"
    }
   ],
   "source": [
    "torch.manual_seed(0)\n",
    "batch_size = 32\n",
    "val_losses_rmse = []\n",
    "val_losses_mae = []\n",
    "val_losses_elia_rmse = []\n",
    "val_losses_elia_mae = []\n",
    "training_times = []\n",
    "val_times = []\n",
    "for fold, (train_idx, val_idx) in enumerate(kf.split(dataset)):\n",
    "    train_subset = Subset(dataset, train_idx)\n",
    "    val_subset = Subset(dataset, val_idx)\n",
    "    train_loader = DataLoader(train_subset, batch_size=batch_size, shuffle=True)\n",
    "    val_loader = DataLoader(val_subset, batch_size=batch_size, shuffle=False)\n",
    "    \n",
    "    model = ForecastModel().to(device)\n",
    "    criterion = nn.MSELoss()\n",
    "    optimizer = optim.Adam(model.parameters(), lr=0.0002)\n",
    "    lr_scheduler = optim.lr_scheduler.ReduceLROnPlateau(optimizer, factor=0.75, patience=5, threshold=3.)\n",
    "    \n",
    "    start_time = time.time()\n",
    "    for epoch in (pbar:=tqdm(range(30))):\n",
    "        model.train()\n",
    "        losses = []\n",
    "        break\n",
    "        for x_load, x_meteo, x_baseline, _, y in train_loader:\n",
    "            optimizer.zero_grad()\n",
    "            outputs = model(x_load, x_meteo, x_baseline)\n",
    "            loss = criterion(outputs, y)\n",
    "            loss.backward()\n",
    "            optimizer.step()\n",
    "            losses.append(loss.item()**0.5)\n",
    "        lr_scheduler.step(np.mean(losses[-30:]))\n",
    "        pbar.set_description(f\"Loss: {np.mean(losses):.2f}\")\n",
    "    training_times.append(time.time() - start_time)\n",
    "    start_time = time.time()\n",
    "    model.eval()\n",
    "    val_loss = []\n",
    "    val_loss_mae = []\n",
    "    val_loss_elia_rmse = []\n",
    "    val_loss_elia_mae = []\n",
    "    with torch.no_grad():\n",
    "        for x_load, x_meteo, x_baseline, y_elia, y in val_loader:\n",
    "            if x_load.shape[0] == batch_size:\n",
    "                outputs = model(x_load, x_meteo, x_baseline)\n",
    "                val_loss.append(criterion(outputs, y).item()**0.5)\n",
    "                val_loss_mae.append(torch.mean(torch.abs(outputs-y)).item())\n",
    "                val_loss_elia_rmse.append(criterion(y_elia, y).item()**0.5)\n",
    "                val_loss_elia_mae.append(torch.mean(torch.abs(y_elia-y)).item())\n",
    "    val_losses_rmse.append(np.mean(val_loss))\n",
    "    val_losses_mae.append(np.mean(val_loss_mae))\n",
    "    val_losses_elia_rmse.append(np.mean(val_loss_elia_rmse))\n",
    "    val_losses_elia_mae.append(np.mean(val_loss_elia_mae))\n",
    "    val_times.append(time.time() - start_time)"
   ]
  },
  {
   "cell_type": "code",
   "execution_count": 38,
   "id": "a6936e93-84ca-441f-8822-1e93054b15dd",
   "metadata": {},
   "outputs": [
    {
     "name": "stdout",
     "output_type": "stream",
     "text": [
      "187.19140502991496 10.36605576602485\n",
      "146.49128093295627 8.863250937218872\n",
      "628.2896732330322 50.91610890434655\n"
     ]
    }
   ],
   "source": [
    "print(np.mean(val_losses_rmse), np.std(val_losses_rmse))\n",
    "print(np.mean(val_losses_mae), np.std(val_losses_mae))\n",
    "print(np.mean(training_times), np.std(training_times))"
   ]
  },
  {
   "cell_type": "code",
   "execution_count": 41,
   "id": "8202b427-4939-4d97-af81-6eec8826dbe1",
   "metadata": {},
   "outputs": [
    {
     "name": "stdout",
     "output_type": "stream",
     "text": [
      "2.355352258682251 0.046845445508145005\n"
     ]
    }
   ],
   "source": [
    "print(np.mean(val_times), np.std(val_times))"
   ]
  },
  {
   "cell_type": "code",
   "execution_count": 43,
   "id": "da2fa41b-bc09-45f3-82ef-0dc023fd6341",
   "metadata": {},
   "outputs": [
    {
     "name": "stdout",
     "output_type": "stream",
     "text": [
      "205.83039086403187 2.0335979554021892\n",
      "164.68314585367838 1.4767970996397055\n"
     ]
    }
   ],
   "source": [
    "print(np.mean(val_losses_elia_rmse), np.std(val_losses_elia_rmse))\n",
    "print(np.mean(val_losses_elia_mae), np.std(val_losses_elia_mae))"
   ]
  },
  {
   "cell_type": "markdown",
   "id": "dcec9aa8-e018-41f5-ab88-11b266e26b06",
   "metadata": {},
   "source": [
    "As we can see, our architecture outperforms ELIA:"
   ]
  },
  {
   "cell_type": "markdown",
   "id": "bf1cd270-8ec2-4eeb-a381-e6f6f84b6fc5",
   "metadata": {},
   "source": [
    "print(\"Losses ELIA:\\t\", val_losses_elia)\n",
    "print(\"Losses NN:\\t\", val_losses)\n",
    "print(\"Mean ELIA:\\t\", np.mean(val_losses_elia))\n",
    "print(\"Mean NN:\\t\", np.mean(val_losses))"
   ]
  },
  {
   "cell_type": "markdown",
   "id": "970bd01a-e724-4ebe-ab92-8776ee54cdd6",
   "metadata": {},
   "source": [
    "## Full model, for deployment"
   ]
  },
  {
   "cell_type": "code",
   "execution_count": 369,
   "id": "2f3cf435-3fa8-4070-8445-4bb9ac3c23dc",
   "metadata": {},
   "outputs": [],
   "source": [
    "val_size = int(len(dataset)*0.8)\n",
    "test_size = int(len(dataset)*0.9)\n",
    "l = list(range(len(dataset)))\n",
    "np.random.shuffle(l)\n",
    "train_idx = l[:val_size]\n",
    "val_idx = l[val_size:test_size]\n",
    "test_idx = l[test_size:]"
   ]
  },
  {
   "cell_type": "code",
   "execution_count": 370,
   "id": "28bad9f7-c706-4090-aec8-785005b42a0d",
   "metadata": {},
   "outputs": [],
   "source": [
    "def NMSELoss(y_hat, y):\n",
    "    return torch.mean((y-y_hat)**2)/torch.std(y)**2"
   ]
  },
  {
   "cell_type": "code",
   "execution_count": 376,
   "id": "7c18dae7-3079-4152-a235-ed042693b647",
   "metadata": {},
   "outputs": [
    {
     "data": {
      "application/vnd.jupyter.widget-view+json": {
       "model_id": "54bd9d82777e4ce9bb5604c65f20696e",
       "version_major": 2,
       "version_minor": 0
      },
      "text/plain": [
       "  0%|          | 0/50 [00:00<?, ?it/s]"
      ]
     },
     "metadata": {},
     "output_type": "display_data"
    },
    {
     "data": {
      "application/vnd.jupyter.widget-view+json": {
       "model_id": "3ef77df8e947415ba9884037329185a1",
       "version_major": 2,
       "version_minor": 0
      },
      "text/plain": [
       "  0%|          | 0/3760 [00:00<?, ?it/s]"
      ]
     },
     "metadata": {},
     "output_type": "display_data"
    },
    {
     "data": {
      "application/vnd.jupyter.widget-view+json": {
       "model_id": "8ab9b5fa53ef47958272e6ae8665c75e",
       "version_major": 2,
       "version_minor": 0
      },
      "text/plain": [
       "  0%|          | 0/3760 [00:00<?, ?it/s]"
      ]
     },
     "metadata": {},
     "output_type": "display_data"
    },
    {
     "data": {
      "application/vnd.jupyter.widget-view+json": {
       "model_id": "23a47d8600ec46f8bba7e1b84d0fc9f1",
       "version_major": 2,
       "version_minor": 0
      },
      "text/plain": [
       "  0%|          | 0/3760 [00:00<?, ?it/s]"
      ]
     },
     "metadata": {},
     "output_type": "display_data"
    },
    {
     "data": {
      "application/vnd.jupyter.widget-view+json": {
       "model_id": "e8f2839f2f9d42b6a57800ec05f676ab",
       "version_major": 2,
       "version_minor": 0
      },
      "text/plain": [
       "  0%|          | 0/3760 [00:00<?, ?it/s]"
      ]
     },
     "metadata": {},
     "output_type": "display_data"
    },
    {
     "data": {
      "application/vnd.jupyter.widget-view+json": {
       "model_id": "621ff61ae216450bba3ef7372ce85f04",
       "version_major": 2,
       "version_minor": 0
      },
      "text/plain": [
       "  0%|          | 0/3760 [00:00<?, ?it/s]"
      ]
     },
     "metadata": {},
     "output_type": "display_data"
    },
    {
     "data": {
      "application/vnd.jupyter.widget-view+json": {
       "model_id": "e3efccb35cdc4c1c85bd25b7ed26e673",
       "version_major": 2,
       "version_minor": 0
      },
      "text/plain": [
       "  0%|          | 0/3760 [00:00<?, ?it/s]"
      ]
     },
     "metadata": {},
     "output_type": "display_data"
    },
    {
     "data": {
      "application/vnd.jupyter.widget-view+json": {
       "model_id": "2a421064767a4174a073ad0ad89546a0",
       "version_major": 2,
       "version_minor": 0
      },
      "text/plain": [
       "  0%|          | 0/3760 [00:00<?, ?it/s]"
      ]
     },
     "metadata": {},
     "output_type": "display_data"
    },
    {
     "data": {
      "application/vnd.jupyter.widget-view+json": {
       "model_id": "b83b7bd091c049c2800916a8fd2f83b2",
       "version_major": 2,
       "version_minor": 0
      },
      "text/plain": [
       "  0%|          | 0/3760 [00:00<?, ?it/s]"
      ]
     },
     "metadata": {},
     "output_type": "display_data"
    },
    {
     "data": {
      "application/vnd.jupyter.widget-view+json": {
       "model_id": "2c5ef425889a4b03a9e291a0e681bb65",
       "version_major": 2,
       "version_minor": 0
      },
      "text/plain": [
       "  0%|          | 0/3760 [00:00<?, ?it/s]"
      ]
     },
     "metadata": {},
     "output_type": "display_data"
    },
    {
     "data": {
      "application/vnd.jupyter.widget-view+json": {
       "model_id": "1421265fcb30439aae7d07bf19151230",
       "version_major": 2,
       "version_minor": 0
      },
      "text/plain": [
       "  0%|          | 0/3760 [00:00<?, ?it/s]"
      ]
     },
     "metadata": {},
     "output_type": "display_data"
    },
    {
     "data": {
      "application/vnd.jupyter.widget-view+json": {
       "model_id": "c6baba9148024eefa8a2ece2bddca792",
       "version_major": 2,
       "version_minor": 0
      },
      "text/plain": [
       "  0%|          | 0/3760 [00:00<?, ?it/s]"
      ]
     },
     "metadata": {},
     "output_type": "display_data"
    },
    {
     "data": {
      "application/vnd.jupyter.widget-view+json": {
       "model_id": "6e1e043324ca4b82bba64347baefa37a",
       "version_major": 2,
       "version_minor": 0
      },
      "text/plain": [
       "  0%|          | 0/3760 [00:00<?, ?it/s]"
      ]
     },
     "metadata": {},
     "output_type": "display_data"
    },
    {
     "data": {
      "application/vnd.jupyter.widget-view+json": {
       "model_id": "6f8da23dd84b44a296c3b62c2087014b",
       "version_major": 2,
       "version_minor": 0
      },
      "text/plain": [
       "  0%|          | 0/3760 [00:00<?, ?it/s]"
      ]
     },
     "metadata": {},
     "output_type": "display_data"
    },
    {
     "data": {
      "application/vnd.jupyter.widget-view+json": {
       "model_id": "1575db268a114c6b9ddb65a9d537578b",
       "version_major": 2,
       "version_minor": 0
      },
      "text/plain": [
       "  0%|          | 0/3760 [00:00<?, ?it/s]"
      ]
     },
     "metadata": {},
     "output_type": "display_data"
    },
    {
     "data": {
      "application/vnd.jupyter.widget-view+json": {
       "model_id": "a6a8acea492946d5be34c4fd3c4084c1",
       "version_major": 2,
       "version_minor": 0
      },
      "text/plain": [
       "  0%|          | 0/3760 [00:00<?, ?it/s]"
      ]
     },
     "metadata": {},
     "output_type": "display_data"
    },
    {
     "data": {
      "application/vnd.jupyter.widget-view+json": {
       "model_id": "7992976d4dce489bbff7ad1f01e0f9de",
       "version_major": 2,
       "version_minor": 0
      },
      "text/plain": [
       "  0%|          | 0/3760 [00:00<?, ?it/s]"
      ]
     },
     "metadata": {},
     "output_type": "display_data"
    },
    {
     "data": {
      "application/vnd.jupyter.widget-view+json": {
       "model_id": "57aa7e563b7b43f0b70e05fc480789bd",
       "version_major": 2,
       "version_minor": 0
      },
      "text/plain": [
       "  0%|          | 0/3760 [00:00<?, ?it/s]"
      ]
     },
     "metadata": {},
     "output_type": "display_data"
    },
    {
     "data": {
      "application/vnd.jupyter.widget-view+json": {
       "model_id": "cfbd9e150b234e398a283c77bac0f1bf",
       "version_major": 2,
       "version_minor": 0
      },
      "text/plain": [
       "  0%|          | 0/3760 [00:00<?, ?it/s]"
      ]
     },
     "metadata": {},
     "output_type": "display_data"
    },
    {
     "data": {
      "application/vnd.jupyter.widget-view+json": {
       "model_id": "63726c6f90fe4848838dc8038ce75b3c",
       "version_major": 2,
       "version_minor": 0
      },
      "text/plain": [
       "  0%|          | 0/3760 [00:00<?, ?it/s]"
      ]
     },
     "metadata": {},
     "output_type": "display_data"
    },
    {
     "data": {
      "application/vnd.jupyter.widget-view+json": {
       "model_id": "52eac176b2a041268278183a9590823e",
       "version_major": 2,
       "version_minor": 0
      },
      "text/plain": [
       "  0%|          | 0/3760 [00:00<?, ?it/s]"
      ]
     },
     "metadata": {},
     "output_type": "display_data"
    },
    {
     "data": {
      "application/vnd.jupyter.widget-view+json": {
       "model_id": "ec6ff996a07444a5b6a52767ecb6fe90",
       "version_major": 2,
       "version_minor": 0
      },
      "text/plain": [
       "  0%|          | 0/3760 [00:00<?, ?it/s]"
      ]
     },
     "metadata": {},
     "output_type": "display_data"
    },
    {
     "data": {
      "application/vnd.jupyter.widget-view+json": {
       "model_id": "77fbeb793c8e4518bb976bc9b6a1460a",
       "version_major": 2,
       "version_minor": 0
      },
      "text/plain": [
       "  0%|          | 0/3760 [00:00<?, ?it/s]"
      ]
     },
     "metadata": {},
     "output_type": "display_data"
    },
    {
     "data": {
      "application/vnd.jupyter.widget-view+json": {
       "model_id": "d253c3c15d9d43e18c2edd106b97371e",
       "version_major": 2,
       "version_minor": 0
      },
      "text/plain": [
       "  0%|          | 0/3760 [00:00<?, ?it/s]"
      ]
     },
     "metadata": {},
     "output_type": "display_data"
    },
    {
     "data": {
      "application/vnd.jupyter.widget-view+json": {
       "model_id": "75cdf2ccb69c488580a1621d65037715",
       "version_major": 2,
       "version_minor": 0
      },
      "text/plain": [
       "  0%|          | 0/3760 [00:00<?, ?it/s]"
      ]
     },
     "metadata": {},
     "output_type": "display_data"
    },
    {
     "data": {
      "application/vnd.jupyter.widget-view+json": {
       "model_id": "742e711929044747a1120b7c9e3dc4bf",
       "version_major": 2,
       "version_minor": 0
      },
      "text/plain": [
       "  0%|          | 0/3760 [00:00<?, ?it/s]"
      ]
     },
     "metadata": {},
     "output_type": "display_data"
    },
    {
     "data": {
      "application/vnd.jupyter.widget-view+json": {
       "model_id": "179e61454f6145bf84a16dad5d70aff0",
       "version_major": 2,
       "version_minor": 0
      },
      "text/plain": [
       "  0%|          | 0/3760 [00:00<?, ?it/s]"
      ]
     },
     "metadata": {},
     "output_type": "display_data"
    },
    {
     "data": {
      "application/vnd.jupyter.widget-view+json": {
       "model_id": "42122faa81134dc3a7d717ff7a0cdd15",
       "version_major": 2,
       "version_minor": 0
      },
      "text/plain": [
       "  0%|          | 0/3760 [00:00<?, ?it/s]"
      ]
     },
     "metadata": {},
     "output_type": "display_data"
    },
    {
     "data": {
      "application/vnd.jupyter.widget-view+json": {
       "model_id": "e40e032610754eeeb97a6d546783de4a",
       "version_major": 2,
       "version_minor": 0
      },
      "text/plain": [
       "  0%|          | 0/3760 [00:00<?, ?it/s]"
      ]
     },
     "metadata": {},
     "output_type": "display_data"
    },
    {
     "data": {
      "application/vnd.jupyter.widget-view+json": {
       "model_id": "406028a9fcd04c9083e3fbe25687f2d0",
       "version_major": 2,
       "version_minor": 0
      },
      "text/plain": [
       "  0%|          | 0/3760 [00:00<?, ?it/s]"
      ]
     },
     "metadata": {},
     "output_type": "display_data"
    },
    {
     "data": {
      "application/vnd.jupyter.widget-view+json": {
       "model_id": "8a2b5528977b40edbbaa59bc7be8ee8e",
       "version_major": 2,
       "version_minor": 0
      },
      "text/plain": [
       "  0%|          | 0/3760 [00:00<?, ?it/s]"
      ]
     },
     "metadata": {},
     "output_type": "display_data"
    },
    {
     "data": {
      "application/vnd.jupyter.widget-view+json": {
       "model_id": "158a0105fb6d48a1aa7f455a13acc87a",
       "version_major": 2,
       "version_minor": 0
      },
      "text/plain": [
       "  0%|          | 0/3760 [00:00<?, ?it/s]"
      ]
     },
     "metadata": {},
     "output_type": "display_data"
    },
    {
     "data": {
      "application/vnd.jupyter.widget-view+json": {
       "model_id": "64e127c8e4fb46beb15b59e1315ba938",
       "version_major": 2,
       "version_minor": 0
      },
      "text/plain": [
       "  0%|          | 0/3760 [00:00<?, ?it/s]"
      ]
     },
     "metadata": {},
     "output_type": "display_data"
    },
    {
     "data": {
      "application/vnd.jupyter.widget-view+json": {
       "model_id": "f05ea91e16134ee98cfa94c51801d7c4",
       "version_major": 2,
       "version_minor": 0
      },
      "text/plain": [
       "  0%|          | 0/3760 [00:00<?, ?it/s]"
      ]
     },
     "metadata": {},
     "output_type": "display_data"
    },
    {
     "data": {
      "application/vnd.jupyter.widget-view+json": {
       "model_id": "057fed1563f24f64afcfc3faf97d064f",
       "version_major": 2,
       "version_minor": 0
      },
      "text/plain": [
       "  0%|          | 0/3760 [00:00<?, ?it/s]"
      ]
     },
     "metadata": {},
     "output_type": "display_data"
    },
    {
     "data": {
      "application/vnd.jupyter.widget-view+json": {
       "model_id": "2866ba99c1d644f9a76ce5f770372d99",
       "version_major": 2,
       "version_minor": 0
      },
      "text/plain": [
       "  0%|          | 0/3760 [00:00<?, ?it/s]"
      ]
     },
     "metadata": {},
     "output_type": "display_data"
    },
    {
     "data": {
      "application/vnd.jupyter.widget-view+json": {
       "model_id": "2db0d74848de4a7983985fb8cf017d36",
       "version_major": 2,
       "version_minor": 0
      },
      "text/plain": [
       "  0%|          | 0/3760 [00:00<?, ?it/s]"
      ]
     },
     "metadata": {},
     "output_type": "display_data"
    },
    {
     "data": {
      "application/vnd.jupyter.widget-view+json": {
       "model_id": "33df5071e6254b00b8bc681a4a503610",
       "version_major": 2,
       "version_minor": 0
      },
      "text/plain": [
       "  0%|          | 0/3760 [00:00<?, ?it/s]"
      ]
     },
     "metadata": {},
     "output_type": "display_data"
    },
    {
     "data": {
      "application/vnd.jupyter.widget-view+json": {
       "model_id": "1014120f2fb64e23a31dbd9f04cfdd3e",
       "version_major": 2,
       "version_minor": 0
      },
      "text/plain": [
       "  0%|          | 0/3760 [00:00<?, ?it/s]"
      ]
     },
     "metadata": {},
     "output_type": "display_data"
    },
    {
     "data": {
      "application/vnd.jupyter.widget-view+json": {
       "model_id": "4b5b234deae84ea38d4a19a6a2fd9900",
       "version_major": 2,
       "version_minor": 0
      },
      "text/plain": [
       "  0%|          | 0/3760 [00:00<?, ?it/s]"
      ]
     },
     "metadata": {},
     "output_type": "display_data"
    },
    {
     "data": {
      "application/vnd.jupyter.widget-view+json": {
       "model_id": "3d49a300dd5d4c6080474aa0355dd7d8",
       "version_major": 2,
       "version_minor": 0
      },
      "text/plain": [
       "  0%|          | 0/3760 [00:00<?, ?it/s]"
      ]
     },
     "metadata": {},
     "output_type": "display_data"
    },
    {
     "data": {
      "application/vnd.jupyter.widget-view+json": {
       "model_id": "54abf49fd4df443897f247698da199ac",
       "version_major": 2,
       "version_minor": 0
      },
      "text/plain": [
       "  0%|          | 0/3760 [00:00<?, ?it/s]"
      ]
     },
     "metadata": {},
     "output_type": "display_data"
    },
    {
     "data": {
      "application/vnd.jupyter.widget-view+json": {
       "model_id": "a99923d2eaf14951ba7412f411e6c6d6",
       "version_major": 2,
       "version_minor": 0
      },
      "text/plain": [
       "  0%|          | 0/3760 [00:00<?, ?it/s]"
      ]
     },
     "metadata": {},
     "output_type": "display_data"
    },
    {
     "data": {
      "application/vnd.jupyter.widget-view+json": {
       "model_id": "21e2570700a3412ea27098168cbbad88",
       "version_major": 2,
       "version_minor": 0
      },
      "text/plain": [
       "  0%|          | 0/3760 [00:00<?, ?it/s]"
      ]
     },
     "metadata": {},
     "output_type": "display_data"
    },
    {
     "data": {
      "application/vnd.jupyter.widget-view+json": {
       "model_id": "c44b89cf700c46a29518ddf2ba1455e3",
       "version_major": 2,
       "version_minor": 0
      },
      "text/plain": [
       "  0%|          | 0/3760 [00:00<?, ?it/s]"
      ]
     },
     "metadata": {},
     "output_type": "display_data"
    },
    {
     "data": {
      "application/vnd.jupyter.widget-view+json": {
       "model_id": "478dd756b14e4b41b7dfa0bc12ba7961",
       "version_major": 2,
       "version_minor": 0
      },
      "text/plain": [
       "  0%|          | 0/3760 [00:00<?, ?it/s]"
      ]
     },
     "metadata": {},
     "output_type": "display_data"
    },
    {
     "data": {
      "application/vnd.jupyter.widget-view+json": {
       "model_id": "42f3e71baad34aaead37032fd03b8979",
       "version_major": 2,
       "version_minor": 0
      },
      "text/plain": [
       "  0%|          | 0/3760 [00:00<?, ?it/s]"
      ]
     },
     "metadata": {},
     "output_type": "display_data"
    },
    {
     "data": {
      "application/vnd.jupyter.widget-view+json": {
       "model_id": "0704602afb924ca5996a731c8cbdba43",
       "version_major": 2,
       "version_minor": 0
      },
      "text/plain": [
       "  0%|          | 0/3760 [00:00<?, ?it/s]"
      ]
     },
     "metadata": {},
     "output_type": "display_data"
    },
    {
     "data": {
      "application/vnd.jupyter.widget-view+json": {
       "model_id": "bc9a78ff4234440bb55b41d552612822",
       "version_major": 2,
       "version_minor": 0
      },
      "text/plain": [
       "  0%|          | 0/3760 [00:00<?, ?it/s]"
      ]
     },
     "metadata": {},
     "output_type": "display_data"
    },
    {
     "data": {
      "application/vnd.jupyter.widget-view+json": {
       "model_id": "a6d867d1befd434e875d048a6cf0c738",
       "version_major": 2,
       "version_minor": 0
      },
      "text/plain": [
       "  0%|          | 0/3760 [00:00<?, ?it/s]"
      ]
     },
     "metadata": {},
     "output_type": "display_data"
    },
    {
     "data": {
      "application/vnd.jupyter.widget-view+json": {
       "model_id": "4980d34011ad4740a4e8580b0d5e13fa",
       "version_major": 2,
       "version_minor": 0
      },
      "text/plain": [
       "  0%|          | 0/3760 [00:00<?, ?it/s]"
      ]
     },
     "metadata": {},
     "output_type": "display_data"
    }
   ],
   "source": [
    "torch.manual_seed(0)\n",
    "batch_size = 16\n",
    "train_subset = Subset(dataset, train_idx)\n",
    "val_subset = Subset(dataset, val_idx)\n",
    "test_subset = Subset(dataset, test_idx)\n",
    "train_loader = DataLoader(train_subset, batch_size=batch_size, shuffle=True)\n",
    "val_loader = DataLoader(val_subset, batch_size=batch_size, shuffle=False)\n",
    "test_loader = DataLoader(test_subset, batch_size=batch_size, shuffle=False)\n",
    "\n",
    "model = ForecastModel().to(device)\n",
    "criterion = NMSELoss\n",
    "optimizer = optim.AdamW(model.parameters(), lr=0.0002)\n",
    "lr_scheduler = optim.lr_scheduler.ReduceLROnPlateau(optimizer, factor=0.9, patience=3, threshold=0.01)\n",
    "\n",
    "val_losses = []\n",
    "lrs = []\n",
    "for epoch in (pbar:=tqdm(range(50))):\n",
    "    model.train()\n",
    "    losses = []\n",
    "    for x_load, x_meteo, x_baseline, _, y in (pbar2:=tqdm(train_loader)):\n",
    "        optimizer.zero_grad()\n",
    "        outputs = model(x_load, x_meteo, x_baseline)\n",
    "        loss = criterion(outputs, y)\n",
    "        loss.backward()\n",
    "        optimizer.step()\n",
    "        losses.append(loss.item()**0.5)\n",
    "        pbar2.set_description(f\"Loss: {np.mean(losses[-30:]):.5f}, LR: {lr_scheduler.get_last_lr()[0]:5f}\")\n",
    "    lrs.append(lr_scheduler.get_last_lr()[0])\n",
    "    lr_scheduler.step(np.mean(losses[-30:]))\n",
    "    \n",
    "    model.eval()\n",
    "    val_loss = []\n",
    "    val_loss_elia = []\n",
    "    with torch.no_grad():\n",
    "        for x_load, x_meteo, x_baseline, y_elia, y in val_loader:\n",
    "            if x_load.shape[0] == batch_size:\n",
    "                outputs = model(x_load, x_meteo, x_baseline)\n",
    "                val_loss.append(criterion(outputs, y).item()**0.5)\n",
    "                val_loss_elia.append(criterion(y_elia, y).item()**0.5)\n",
    "    val_losses.append(np.mean(val_loss))\n",
    "    pbar.set_description(f\"Loss: {val_losses[-1]:5f}, Loss ELIA: {np.mean(val_loss_elia):.5f}\")\n",
    "    if val_losses[-1] == np.min(val_losses):\n",
    "        torch.save(model, \"x@.pt\")"
   ]
  },
  {
   "cell_type": "code",
   "execution_count": 377,
   "id": "2905da65-7a3a-4cad-9e8e-7c7ec0486830",
   "metadata": {},
   "outputs": [
    {
     "data": {
      "text/plain": [
       "[<matplotlib.lines.Line2D at 0x4d489bd90>]"
      ]
     },
     "execution_count": 377,
     "metadata": {},
     "output_type": "execute_result"
    },
    {
     "data": {
      "image/png": "[encoded data removed]",
      "text/plain": [
       "<Figure size 640x480 with 1 Axes>"
      ]
     },
     "metadata": {},
     "output_type": "display_data"
    }
   ],
   "source": [
    "plt.plot(np.array(val_losses)/np.max(val_losses))\n",
    "plt.plot(np.array(lrs)/np.max(lrs))"
   ]
  },
  {
   "cell_type": "code",
   "execution_count": 378,
   "id": "dcddddd8-b12d-471b-8fc1-393dea4bc488",
   "metadata": {},
   "outputs": [
    {
     "data": {
      "application/vnd.jupyter.widget-view+json": {
       "model_id": "59c78c101fe844f28b9da498b1bc8048",
       "version_major": 2,
       "version_minor": 0
      },
      "text/plain": [
       "  0%|          | 0/90 [00:00<?, ?it/s]"
      ]
     },
     "metadata": {},
     "output_type": "display_data"
    }
   ],
   "source": [
    "def make_item(data, idx):\n",
    "    load = data[[\"Total Load\", \"Total Load 1 Year Before, to the FH\", \"System imbalance\"]].to_numpy()[idx:idx+24*28].T\n",
    "    meteo = data[[\"Temperature\", \"Precipitation\", \"Wind\", \"Pressure\"]].to_numpy()[idx:idx+24*28].T\n",
    "    baseline = data[\"Total Load\"].to_numpy()[idx+24*28-24*7+30]\n",
    "    return torch.tensor(load, dtype=torch.float32).unsqueeze(0), torch.tensor(meteo, dtype=torch.float32).unsqueeze(0), torch.tensor(baseline, dtype=torch.float32), torch.tensor(data[\"Most recent forecast\"].iloc[idx+24*28+30]), torch.tensor(data[\"y\"].iloc[idx+24*28])\n",
    "\n",
    "s = 24*28\n",
    "errs = []\n",
    "errs_elia = []\n",
    "for j in tqdm(range(0, 60000, 24*28)):\n",
    "    err = 0\n",
    "    err_elia = 0\n",
    "    for i in range(j, j+s):\n",
    "        load, meteo, baseline, elia, y = make_item(data, i)\n",
    "        y_hat = model(load.to('mps'), meteo.to('mps'), baseline.to('mps')).cpu().detach()\n",
    "        err += np.abs(y.item()-y_hat.item())\n",
    "        err_elia += np.abs(y.item()-elia.item())\n",
    "    errs.append(err/s)\n",
    "    errs_elia.append(err_elia/s)"
   ]
  },
  {
   "cell_type": "code",
   "execution_count": 379,
   "id": "de801f61-8463-46af-82ed-24f13aa1f23c",
   "metadata": {},
   "outputs": [
    {
     "data": {
      "image/png": "[encoded data removed]",
      "text/plain": [
       "<Figure size 1800x600 with 1 Axes>"
      ]
     },
     "metadata": {},
     "output_type": "display_data"
    }
   ],
   "source": [
    "plt.figure(figsize=(18, 6))\n",
    "plt.plot(errs, label=\"model\")\n",
    "plt.plot(errs_elia, label=\"elia\")\n",
    "plt.legend()\n",
    "plt.show()"
   ]
  },
  {
   "cell_type": "code",
   "execution_count": null,
   "id": "bd1a91bd-89f6-4036-8ede-2613b2d9eb38",
   "metadata": {},
   "outputs": [],
   "source": []
  }
 ],
 "metadata": {
  "kernelspec": {
   "display_name": "Python 3 (ipykernel)",
   "language": "python",
   "name": "python3"
  },
  "language_info": {
   "codemirror_mode": {
    "name": "ipython",
    "version": 3
   },
   "file_extension": ".py",
   "mimetype": "text/x-python",
   "name": "python",
   "nbconvert_exporter": "python",
   "pygments_lexer": "ipython3",
   "version": "3.11.6"
  }
 },
 "nbformat": 4,
 "nbformat_minor": 5
}
