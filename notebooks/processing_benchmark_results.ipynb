{
 "cells": [
  {
   "cell_type": "code",
   "execution_count": 1,
   "id": "0c7db04a-98a4-4441-9e18-271b42b12a42",
   "metadata": {},
   "outputs": [],
   "source": [
    "import numpy as np\n",
    "import pandas as pd\n",
    "import os\n",
    "import pickle\n",
    "import matplotlib.pyplot as plt"
   ]
  },
  {
   "cell_type": "code",
   "execution_count": 2,
   "id": "16a997ef-bc2a-4131-952e-fc74770225b5",
   "metadata": {},
   "outputs": [],
   "source": [
    "path = \"../output/load_results_03062025/Load_results\"\n",
    "\n",
    "algorithms = [\"MEnet\", \"MGBR\", \"MKNN\", \"MLasso\", \"MPipeRF\", \"MPLS\", \"MRidge\", \"MRandomForest\", \"MLightGBM_pip\"]\n",
    "\n",
    "algorithm_results = {}\n",
    "\n",
    "for alg in algorithms:\n",
    "    with open(os.path.join(path, f'{alg}.pickle'), 'rb') as f:\n",
    "        data = pickle.load(f)\n",
    "        algorithm_results[alg] = data"
   ]
  },
  {
   "cell_type": "code",
   "execution_count": 46,
   "id": "3873deae-3da6-4100-86e2-2eb9832af54e",
   "metadata": {},
   "outputs": [
    {
     "data": {
      "text/plain": [
       "{'loss': 313.72597880160055,\n",
       " 'status': 'ok',\n",
       " 'training_time': 1.0610616207122803,\n",
       " 'validation_time': 0.027270793914794922,\n",
       " 'params': {'alpha': 0.7373749519302141,\n",
       "  'l1_ratio': 0.9862257527876771,\n",
       "  'max_iter': 601.0,\n",
       "  'name': 'ElasticNet',\n",
       "  'selection': 'cyclic',\n",
       "  'n_targets': 1,\n",
       "  'n_features': 1500,\n",
       "  'random_state': 42},\n",
       " 'val_predictions': array([10665.47540246, 10189.31584195,  8756.97133706, ...,\n",
       "         7606.86193475,  8139.48170294,  7660.35458387]),\n",
       " 'performance_on_validation':                    0              1              2              3  \\\n",
       " MAE       311.227213     313.932895     316.832985     313.469924   \n",
       " MAPE        0.032669       0.032964       0.033150       0.032899   \n",
       " RMSE      433.174170     433.654530     436.356824     431.743302   \n",
       " NRMSE       0.045390       0.045420       0.045598       0.045177   \n",
       " MSE    187639.861878  188056.251249  190407.277501  186402.278629   \n",
       " NMSE       19.661919      19.696559      19.896945      19.504808   \n",
       " \n",
       "                    4  \n",
       " MAE       313.166877  \n",
       " MAPE        0.032803  \n",
       " RMSE      433.521827  \n",
       " NRMSE       0.045370  \n",
       " MSE    187941.174323  \n",
       " NMSE       19.668801  ,\n",
       " 'performance_on_ELIA':                   0             1             2             3             4\n",
       " MAE      173.397676    172.833110    175.882312    174.167715    174.488496\n",
       " MAPE       0.018473      0.018421      0.018676      0.018508      0.018557\n",
       " RMSE     233.275628    234.020651    236.396671    232.466879    234.785288\n",
       " NRMSE      0.024444      0.024511      0.024703      0.024325      0.024571\n",
       " MSE    54417.518690  54765.665253  55883.386243  54040.849736  55124.131645\n",
       " NMSE       5.702162      5.736024      5.839633      5.654740      5.768962}"
      ]
     },
     "execution_count": 46,
     "metadata": {},
     "output_type": "execute_result"
    }
   ],
   "source": [
    "algorithm_results[\"MEnet\"][\"HPO_trials\"][1]['result']\n"
   ]
  },
  {
   "cell_type": "code",
   "execution_count": 48,
   "id": "f15ac2b9-8d91-42d2-aa22-a8ad414615e9",
   "metadata": {},
   "outputs": [
    {
     "name": "stdout",
     "output_type": "stream",
     "text": [
      "MEnet 313.726 2.0198 433.6901 1.6731 1.06 0.03\n",
      "MGBR 228.3367 2.6368 298.4986 3.7057 15.61 0.03\n",
      "MKNN 229.8504 1.9345 307.2091 2.6847 9.62 1791.09\n",
      "MLasso 313.6927 1.9692 433.6443 1.6061 2.55 0.03\n",
      "MPipeRF 472.2681 4.6187 626.8217 5.2004 303.0 0.18\n",
      "MPLS 314.9771 1.7473 435.2407 1.5315 46.17 0.1\n",
      "MRidge 314.9765 1.7475 435.24 1.5316 1.18 0.05\n",
      "MRandomForest 908.5341 3.2471 1130.5639 3.7117 68.28 0.17\n",
      "MLightGBM_pip 206.4131 1.4133 270.9815 2.0988 199.71 0.33\n"
     ]
    }
   ],
   "source": [
    "for alg, results in algorithm_results.items():\n",
    "    best_trial = results['best_trial']\n",
    "\n",
    "    trial = results[\"HPO_trials\"][best_trial]['result']\n",
    "    performance_validation = trial['performance_on_validation'].mean(axis=1)\n",
    "    performance_std = trial['performance_on_validation'].std(axis=1)\n",
    "\n",
    "    print(alg, np.round(performance_validation[\"MAE\"], 4),\n",
    "          np.round(performance_std[\"MAE\"], 4), \n",
    "          np.round(performance_validation[\"RMSE\"], 4), \n",
    "          np.round(performance_std[\"RMSE\"], 4),\n",
    "         np.round(trial[\"training_time\"], 2),\n",
    "         np.round(trial[\"validation_time\"], 2))\n",
    "    "
   ]
  },
  {
   "cell_type": "code",
   "execution_count": 5,
   "id": "8f027c71-b35d-417a-b39e-fcba898a4f1b",
   "metadata": {},
   "outputs": [
    {
     "name": "stdout",
     "output_type": "stream",
     "text": [
      "MEnet {'alpha': 0.7373749519302141, 'l1_ratio': 0.9862257527876771, 'max_iter': 601.0, 'name': 'ElasticNet', 'selection': 'cyclic', 'n_targets': 1, 'n_features': 1500, 'random_state': 42}\n",
      "\n",
      "MGBR {'l2_regularization': 0.536765435613642, 'learning_rate': 1.2163556646057851, 'loss': 'poisson', 'max_depth': 19.0, 'max_iter': 191.0, 'max_leaf_nodes': 49.0, 'min_samples_leaf': 10.0, 'name': 'HGBR', 'n_targets': 1, 'n_features': 1500, 'random_state': 42}\n",
      "\n",
      "MKNN {'algorithm': 'ball_tree', 'n_neighbors': 3, 'name': 'KNN', 'weights': 'distance', 'n_targets': 1, 'n_features': 1500, 'random_state': 42}\n",
      "\n",
      "MLasso {'alpha': 0.6828204633076271, 'l1_ratio': 0.5963760493904164, 'max_iter': 862.0, 'name': 'Lasso', 'selection': 'random', 'n_targets': 1, 'n_features': 1500, 'random_state': 42}\n",
      "\n",
      "MPipeRF {'criterion': 'squared_error', 'max_depth': 49.0, 'min_samples_leaf': 0.003143505644945082, 'min_samples_split': 0.010482203918141867, 'n_estimators': 112.0, 'name': 'PipeRF', 'n_targets': 1, 'n_features': 1500, 'random_state': 42}\n",
      "\n",
      "MPLS {'max_iter': 1644.0, 'n_components': 43.0, 'name': 'PLSRegression', 'n_targets': 1, 'n_features': 1500, 'random_state': 42}\n",
      "\n",
      "MRidge {'alpha': 1.924628138196723, 'name': 'Ridge', 'n_targets': 1, 'n_features': 1500, 'random_state': 42}\n",
      "\n",
      "MRandomForest {'criterion': 'friedman_mse', 'max_depth': 32.0, 'min_samples_leaf': 0.12845428664009714, 'min_samples_split': 0.4488239034784921, 'n_estimators': 138.0, 'name': 'RandomForestRegressor', 'n_targets': 1, 'n_features': 1500, 'random_state': 42}\n",
      "\n",
      "MLightGBM_pip {'boosting_type': 'gbdt', 'learning_rate': 1.2075667987779148, 'max_depth': 9.0, 'min_child_samples': 15.0, 'n_estimators': 183.0, 'name': 'LightGBM_pip', 'num_leaves': 85.0, 'reg_alpha': 1.994990470218842, 'reg_lambda': 1.2878155585077373, 'n_targets': 1, 'n_features': 1500, 'random_state': 42}\n",
      "\n"
     ]
    }
   ],
   "source": [
    "for alg, results in algorithm_results.items():\n",
    "    best_trial = results['best_trial']\n",
    "\n",
    "    trial = results[\"HPO_trials\"][best_trial]['result']\n",
    "    print(alg, trial[\"params\"])\n",
    "    print()"
   ]
  }
 ],
 "metadata": {
  "kernelspec": {
   "display_name": "belgian-load-forecasting",
   "language": "python",
   "name": "belgian-load-forecasting"
  },
  "language_info": {
   "codemirror_mode": {
    "name": "ipython",
    "version": 3
   },
   "file_extension": ".py",
   "mimetype": "text/x-python",
   "name": "python",
   "nbconvert_exporter": "python",
   "pygments_lexer": "ipython3",
   "version": "3.11.6"
  }
 },
 "nbformat": 4,
 "nbformat_minor": 5
}
