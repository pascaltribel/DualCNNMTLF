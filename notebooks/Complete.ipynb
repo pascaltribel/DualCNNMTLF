{
 "cells": [
  {
   "cell_type": "markdown",
   "id": "277e7d19-4ccd-4109-bcfb-c696df7aaf90",
   "metadata": {},
   "source": [
    "# Belgian Total Load 30-hours ahead forecasting\n",
    "## Introduction\n",
    "\n",
    "## Data preparation\n",
    "We load a buch of libraries:"
   ]
  },
  {
   "cell_type": "code",
   "execution_count": 1,
   "id": "9af222fd-02b5-4acc-81bd-ac58109b0f7d",
   "metadata": {},
   "outputs": [],
   "source": [
    "import numpy as np\n",
    "import torch\n",
    "import torch.nn as nn\n",
    "import torch.optim as optim\n",
    "from torch.utils.data import Dataset, DataLoader, Subset\n",
    "from tqdm.auto import tqdm\n",
    "import matplotlib.pyplot as plt \n",
    "import pandas as pd\n",
    "import sklearn\n",
    "from sklearn.model_selection import KFold"
   ]
  },
  {
   "cell_type": "markdown",
   "id": "8b627812-3826-4610-86cd-104872b1e03e",
   "metadata": {},
   "source": [
    "The most important part of the used dataset if downloaded from _https://opendata.elia.be/explore/dataset/ods001/export/?sort=datetime_ . It contains measurements of the Belgian Total Load every 15 minutes, along with provided forecasts. We will consider, in this notebook, the _Most recent forecast_ as the baseline. This forecast (seems to be) made 30 hours before the time point it is linked to."
   ]
  },
  {
   "cell_type": "code",
   "execution_count": 3,
   "id": "a7a9bbc9-351b-4c8b-91f2-541e883189b9",
   "metadata": {},
   "outputs": [
    {
     "data": {
      "text/html": [
       "<div>\n",
       "<style scoped>\n",
       "    .dataframe tbody tr th:only-of-type {\n",
       "        vertical-align: middle;\n",
       "    }\n",
       "\n",
       "    .dataframe tbody tr th {\n",
       "        vertical-align: top;\n",
       "    }\n",
       "\n",
       "    .dataframe thead th {\n",
       "        text-align: right;\n",
       "    }\n",
       "</style>\n",
       "<table border=\"1\" class=\"dataframe\">\n",
       "  <thead>\n",
       "    <tr style=\"text-align: right;\">\n",
       "      <th></th>\n",
       "      <th>Datetime</th>\n",
       "      <th>Total Load</th>\n",
       "      <th>Most recent forecast</th>\n",
       "      <th>Most recent P10</th>\n",
       "      <th>Most recent P90</th>\n",
       "      <th>Day-ahead 6PM forecast</th>\n",
       "      <th>Day-ahead 6PM P10</th>\n",
       "      <th>Day-ahead 6PM P90</th>\n",
       "      <th>Week-ahead forecast</th>\n",
       "      <th>Year</th>\n",
       "      <th>Month</th>\n",
       "      <th>Day</th>\n",
       "      <th>Hour</th>\n",
       "      <th>Minute</th>\n",
       "      <th>Season</th>\n",
       "      <th>Lockdown</th>\n",
       "      <th>Total Load Interpolated</th>\n",
       "    </tr>\n",
       "  </thead>\n",
       "  <tbody>\n",
       "    <tr>\n",
       "      <th>0</th>\n",
       "      <td>2014-12-31 23:00:00+00:00</td>\n",
       "      <td>10142.19</td>\n",
       "      <td>9496.05</td>\n",
       "      <td>8871.71</td>\n",
       "      <td>10120.38</td>\n",
       "      <td>9697.59</td>\n",
       "      <td>9076.64</td>\n",
       "      <td>10318.53</td>\n",
       "      <td>9833.37</td>\n",
       "      <td>2014</td>\n",
       "      <td>12</td>\n",
       "      <td>31</td>\n",
       "      <td>23</td>\n",
       "      <td>0</td>\n",
       "      <td>3</td>\n",
       "      <td>0</td>\n",
       "      <td>10142.19</td>\n",
       "    </tr>\n",
       "    <tr>\n",
       "      <th>1</th>\n",
       "      <td>2014-12-31 23:15:00+00:00</td>\n",
       "      <td>10051.28</td>\n",
       "      <td>9329.17</td>\n",
       "      <td>8715.80</td>\n",
       "      <td>9942.53</td>\n",
       "      <td>9526.54</td>\n",
       "      <td>8916.55</td>\n",
       "      <td>10136.53</td>\n",
       "      <td>9653.31</td>\n",
       "      <td>2014</td>\n",
       "      <td>12</td>\n",
       "      <td>31</td>\n",
       "      <td>23</td>\n",
       "      <td>15</td>\n",
       "      <td>3</td>\n",
       "      <td>0</td>\n",
       "      <td>10051.28</td>\n",
       "    </tr>\n",
       "    <tr>\n",
       "      <th>2</th>\n",
       "      <td>2014-12-31 23:30:00+00:00</td>\n",
       "      <td>9952.87</td>\n",
       "      <td>9174.72</td>\n",
       "      <td>8571.51</td>\n",
       "      <td>9777.92</td>\n",
       "      <td>9367.66</td>\n",
       "      <td>8767.84</td>\n",
       "      <td>9967.47</td>\n",
       "      <td>9473.22</td>\n",
       "      <td>2014</td>\n",
       "      <td>12</td>\n",
       "      <td>31</td>\n",
       "      <td>23</td>\n",
       "      <td>30</td>\n",
       "      <td>3</td>\n",
       "      <td>0</td>\n",
       "      <td>9952.87</td>\n",
       "    </tr>\n",
       "    <tr>\n",
       "      <th>3</th>\n",
       "      <td>2014-12-31 23:45:00+00:00</td>\n",
       "      <td>9821.78</td>\n",
       "      <td>9025.46</td>\n",
       "      <td>8432.07</td>\n",
       "      <td>9618.85</td>\n",
       "      <td>9216.09</td>\n",
       "      <td>8625.97</td>\n",
       "      <td>9806.20</td>\n",
       "      <td>9319.45</td>\n",
       "      <td>2014</td>\n",
       "      <td>12</td>\n",
       "      <td>31</td>\n",
       "      <td>23</td>\n",
       "      <td>45</td>\n",
       "      <td>3</td>\n",
       "      <td>0</td>\n",
       "      <td>9821.78</td>\n",
       "    </tr>\n",
       "    <tr>\n",
       "      <th>4</th>\n",
       "      <td>2015-01-01 00:00:00+00:00</td>\n",
       "      <td>9755.00</td>\n",
       "      <td>9222.33</td>\n",
       "      <td>8880.23</td>\n",
       "      <td>9564.44</td>\n",
       "      <td>10130.36</td>\n",
       "      <td>9777.87</td>\n",
       "      <td>10482.86</td>\n",
       "      <td>9203.25</td>\n",
       "      <td>2015</td>\n",
       "      <td>1</td>\n",
       "      <td>1</td>\n",
       "      <td>0</td>\n",
       "      <td>0</td>\n",
       "      <td>0</td>\n",
       "      <td>0</td>\n",
       "      <td>9755.00</td>\n",
       "    </tr>\n",
       "    <tr>\n",
       "      <th>...</th>\n",
       "      <td>...</td>\n",
       "      <td>...</td>\n",
       "      <td>...</td>\n",
       "      <td>...</td>\n",
       "      <td>...</td>\n",
       "      <td>...</td>\n",
       "      <td>...</td>\n",
       "      <td>...</td>\n",
       "      <td>...</td>\n",
       "      <td>...</td>\n",
       "      <td>...</td>\n",
       "      <td>...</td>\n",
       "      <td>...</td>\n",
       "      <td>...</td>\n",
       "      <td>...</td>\n",
       "      <td>...</td>\n",
       "      <td>...</td>\n",
       "    </tr>\n",
       "    <tr>\n",
       "      <th>358747</th>\n",
       "      <td>2025-03-25 21:45:00+00:00</td>\n",
       "      <td>NaN</td>\n",
       "      <td>9185.85</td>\n",
       "      <td>8769.06</td>\n",
       "      <td>9602.65</td>\n",
       "      <td>9185.85</td>\n",
       "      <td>8769.06</td>\n",
       "      <td>9602.65</td>\n",
       "      <td>9185.85</td>\n",
       "      <td>2025</td>\n",
       "      <td>3</td>\n",
       "      <td>25</td>\n",
       "      <td>21</td>\n",
       "      <td>45</td>\n",
       "      <td>0</td>\n",
       "      <td>0</td>\n",
       "      <td>10700.04</td>\n",
       "    </tr>\n",
       "    <tr>\n",
       "      <th>358748</th>\n",
       "      <td>2025-03-25 22:00:00+00:00</td>\n",
       "      <td>NaN</td>\n",
       "      <td>9069.36</td>\n",
       "      <td>8642.64</td>\n",
       "      <td>9496.08</td>\n",
       "      <td>9069.36</td>\n",
       "      <td>8642.64</td>\n",
       "      <td>9496.08</td>\n",
       "      <td>9069.36</td>\n",
       "      <td>2025</td>\n",
       "      <td>3</td>\n",
       "      <td>25</td>\n",
       "      <td>22</td>\n",
       "      <td>0</td>\n",
       "      <td>0</td>\n",
       "      <td>0</td>\n",
       "      <td>10700.04</td>\n",
       "    </tr>\n",
       "    <tr>\n",
       "      <th>358749</th>\n",
       "      <td>2025-03-25 22:15:00+00:00</td>\n",
       "      <td>NaN</td>\n",
       "      <td>8956.48</td>\n",
       "      <td>8535.07</td>\n",
       "      <td>9377.89</td>\n",
       "      <td>8956.48</td>\n",
       "      <td>8535.07</td>\n",
       "      <td>9377.89</td>\n",
       "      <td>8956.48</td>\n",
       "      <td>2025</td>\n",
       "      <td>3</td>\n",
       "      <td>25</td>\n",
       "      <td>22</td>\n",
       "      <td>15</td>\n",
       "      <td>0</td>\n",
       "      <td>0</td>\n",
       "      <td>10700.04</td>\n",
       "    </tr>\n",
       "    <tr>\n",
       "      <th>358750</th>\n",
       "      <td>2025-03-25 22:30:00+00:00</td>\n",
       "      <td>NaN</td>\n",
       "      <td>8861.24</td>\n",
       "      <td>8444.31</td>\n",
       "      <td>9278.17</td>\n",
       "      <td>8861.24</td>\n",
       "      <td>8444.31</td>\n",
       "      <td>9278.17</td>\n",
       "      <td>8861.24</td>\n",
       "      <td>2025</td>\n",
       "      <td>3</td>\n",
       "      <td>25</td>\n",
       "      <td>22</td>\n",
       "      <td>30</td>\n",
       "      <td>0</td>\n",
       "      <td>0</td>\n",
       "      <td>10700.04</td>\n",
       "    </tr>\n",
       "    <tr>\n",
       "      <th>358751</th>\n",
       "      <td>2025-03-25 22:45:00+00:00</td>\n",
       "      <td>NaN</td>\n",
       "      <td>8776.50</td>\n",
       "      <td>8363.56</td>\n",
       "      <td>9189.45</td>\n",
       "      <td>8776.50</td>\n",
       "      <td>8363.56</td>\n",
       "      <td>9189.45</td>\n",
       "      <td>8776.50</td>\n",
       "      <td>2025</td>\n",
       "      <td>3</td>\n",
       "      <td>25</td>\n",
       "      <td>22</td>\n",
       "      <td>45</td>\n",
       "      <td>0</td>\n",
       "      <td>0</td>\n",
       "      <td>10700.04</td>\n",
       "    </tr>\n",
       "  </tbody>\n",
       "</table>\n",
       "<p>358752 rows × 17 columns</p>\n",
       "</div>"
      ],
      "text/plain": [
       "                        Datetime  Total Load  Most recent forecast  \\\n",
       "0      2014-12-31 23:00:00+00:00    10142.19               9496.05   \n",
       "1      2014-12-31 23:15:00+00:00    10051.28               9329.17   \n",
       "2      2014-12-31 23:30:00+00:00     9952.87               9174.72   \n",
       "3      2014-12-31 23:45:00+00:00     9821.78               9025.46   \n",
       "4      2015-01-01 00:00:00+00:00     9755.00               9222.33   \n",
       "...                          ...         ...                   ...   \n",
       "358747 2025-03-25 21:45:00+00:00         NaN               9185.85   \n",
       "358748 2025-03-25 22:00:00+00:00         NaN               9069.36   \n",
       "358749 2025-03-25 22:15:00+00:00         NaN               8956.48   \n",
       "358750 2025-03-25 22:30:00+00:00         NaN               8861.24   \n",
       "358751 2025-03-25 22:45:00+00:00         NaN               8776.50   \n",
       "\n",
       "        Most recent P10  Most recent P90  Day-ahead 6PM forecast  \\\n",
       "0               8871.71         10120.38                 9697.59   \n",
       "1               8715.80          9942.53                 9526.54   \n",
       "2               8571.51          9777.92                 9367.66   \n",
       "3               8432.07          9618.85                 9216.09   \n",
       "4               8880.23          9564.44                10130.36   \n",
       "...                 ...              ...                     ...   \n",
       "358747          8769.06          9602.65                 9185.85   \n",
       "358748          8642.64          9496.08                 9069.36   \n",
       "358749          8535.07          9377.89                 8956.48   \n",
       "358750          8444.31          9278.17                 8861.24   \n",
       "358751          8363.56          9189.45                 8776.50   \n",
       "\n",
       "        Day-ahead 6PM P10  Day-ahead 6PM P90  Week-ahead forecast  Year  \\\n",
       "0                 9076.64           10318.53              9833.37  2014   \n",
       "1                 8916.55           10136.53              9653.31  2014   \n",
       "2                 8767.84            9967.47              9473.22  2014   \n",
       "3                 8625.97            9806.20              9319.45  2014   \n",
       "4                 9777.87           10482.86              9203.25  2015   \n",
       "...                   ...                ...                  ...   ...   \n",
       "358747            8769.06            9602.65              9185.85  2025   \n",
       "358748            8642.64            9496.08              9069.36  2025   \n",
       "358749            8535.07            9377.89              8956.48  2025   \n",
       "358750            8444.31            9278.17              8861.24  2025   \n",
       "358751            8363.56            9189.45              8776.50  2025   \n",
       "\n",
       "        Month  Day  Hour  Minute  Season  Lockdown  Total Load Interpolated  \n",
       "0          12   31    23       0       3         0                 10142.19  \n",
       "1          12   31    23      15       3         0                 10051.28  \n",
       "2          12   31    23      30       3         0                  9952.87  \n",
       "3          12   31    23      45       3         0                  9821.78  \n",
       "4           1    1     0       0       0         0                  9755.00  \n",
       "...       ...  ...   ...     ...     ...       ...                      ...  \n",
       "358747      3   25    21      45       0         0                 10700.04  \n",
       "358748      3   25    22       0       0         0                 10700.04  \n",
       "358749      3   25    22      15       0         0                 10700.04  \n",
       "358750      3   25    22      30       0         0                 10700.04  \n",
       "358751      3   25    22      45       0         0                 10700.04  \n",
       "\n",
       "[358752 rows x 17 columns]"
      ]
     },
     "execution_count": 3,
     "metadata": {},
     "output_type": "execute_result"
    }
   ],
   "source": [
    "load = pd.read_csv(\"../data/preprocessed_data_18032025.csv\", delimiter=',')\n",
    "load[\"Datetime\"] = pd.to_datetime(load[\"Datetime\"], utc=True)\n",
    "load[\"Datetime\"] = load[\"Datetime\"].dt.tz_convert('UTC') \n",
    "load"
   ]
  },
  {
   "cell_type": "markdown",
   "id": "f9ddb520-6bee-4325-8056-be3effc7312f",
   "metadata": {},
   "source": [
    "Additionally, we download meteorological data from _https://opendata.meteo.be/download_, which allows us to get hourly measurements on the whole Belgian territory. Since the 15-minutes data from ELIA seems to interpolated between hourly-measured data, we will use the hourly measurement as a timestep."
   ]
  },
  {
   "cell_type": "code",
   "execution_count": 5,
   "id": "1d7e739d-3796-43c6-914d-51fb25463721",
   "metadata": {},
   "outputs": [],
   "source": [
    "weather = pd.read_csv(\"../webapp/backend/weather.csv\")\n",
    "weather[\"timestamp\"] = pd.to_datetime(weather[\"timestamp\"])\n",
    "weather[\"timestamp\"] = weather[\"timestamp\"].dt.tz_localize('UTC')"
   ]
  },
  {
   "cell_type": "markdown",
   "id": "cb5e2ef5-6d49-4c79-b3df-031e4f5a2882",
   "metadata": {},
   "source": [
    "Finally, from _https://opendata.elia.be/explore/dataset/ods047/export/_, we get information about the 15-minutes measurement of the system imbalance, that is (according to _https://www.emissions-euets.com/imbalances_) \"_deviations between generation, consumption and commercial transactions of a balance responsible parties (BRPs) within a given imbalance settlement period._\"."
   ]
  },
  {
   "cell_type": "code",
   "execution_count": 6,
   "id": "dc6ca01b-7a20-4b8d-9462-44da14a2a0ab",
   "metadata": {},
   "outputs": [],
   "source": [
    "prices = pd.read_csv(\"../data/prices.csv\", delimiter=';')\n",
    "prices[\"DateTime\"] = pd.to_datetime(prices[\"DateTime\"], utc=True)\n",
    "prices[\"DateTime\"] = prices[\"DateTime\"].dt.tz_convert('UTC') "
   ]
  },
  {
   "cell_type": "markdown",
   "id": "6c988ba7-0877-4825-ba3c-bd7c13420188",
   "metadata": {},
   "source": [
    "By inner-merging the load and the prices on the _Datetime_ columns, we keep the 15-minutes time granularity:"
   ]
  },
  {
   "cell_type": "code",
   "execution_count": 7,
   "id": "2b5ce2a8-5c16-4a8d-98ca-d41c42ad6257",
   "metadata": {},
   "outputs": [],
   "source": [
    "load_prices = pd.merge(load, prices, left_on='Datetime', right_on='DateTime', how='inner')"
   ]
  },
  {
   "cell_type": "markdown",
   "id": "c582e563-5973-43eb-b1b4-4aa935e1657a",
   "metadata": {},
   "source": [
    "We only keep the following columns from the load/imbalance datasets:"
   ]
  },
  {
   "cell_type": "code",
   "execution_count": 8,
   "id": "4f27276e-709d-4bd9-81f8-5b09cf68125b",
   "metadata": {},
   "outputs": [],
   "source": [
    "keep_columns_load_prices = ['Datetime', 'Total Load', 'Most recent forecast', 'System imbalance']\n",
    "load_prices = load_prices[keep_columns_load_prices]"
   ]
  },
  {
   "cell_type": "markdown",
   "id": "8bf747bc-2af0-4a21-80c8-d32daadae1c2",
   "metadata": {},
   "source": [
    "Then, we preprocess the _weather_ data. First, we keep informations about the location of the measurement stations, the timestamp of each measure, the precipitations, temperatures, wind speed and pressure:"
   ]
  },
  {
   "cell_type": "code",
   "execution_count": 11,
   "id": "7fbbb4f3-b825-470a-8ff9-3380a9db9b86",
   "metadata": {},
   "outputs": [
    {
     "data": {
      "text/plain": [
       "Index(['Unnamed: 0', 'timestamp', 'temperature', 'precipitation', 'wind',\n",
       "       'pressure'],\n",
       "      dtype='object')"
      ]
     },
     "execution_count": 11,
     "metadata": {},
     "output_type": "execute_result"
    }
   ],
   "source": [
    "weather.columns"
   ]
  },
  {
   "cell_type": "code",
   "execution_count": 9,
   "id": "721aa9a2-9ddc-4ef5-bbde-af5fe32e32fd",
   "metadata": {},
   "outputs": [
    {
     "ename": "KeyError",
     "evalue": "\"['the_geom', 'precip_quantity', 'temp_soil_avg', 'wind_speed_10m'] not in index\"",
     "output_type": "error",
     "traceback": [
      "\u001b[31m---------------------------------------------------------------------------\u001b[39m",
      "\u001b[31mKeyError\u001b[39m                                  Traceback (most recent call last)",
      "\u001b[36mCell\u001b[39m\u001b[36m \u001b[39m\u001b[32mIn[9]\u001b[39m\u001b[32m, line 2\u001b[39m\n\u001b[32m      1\u001b[39m keep_columns_weather = [\u001b[33m'\u001b[39m\u001b[33mthe_geom\u001b[39m\u001b[33m'\u001b[39m, \u001b[33m'\u001b[39m\u001b[33mtimestamp\u001b[39m\u001b[33m'\u001b[39m, \u001b[33m'\u001b[39m\u001b[33mprecip_quantity\u001b[39m\u001b[33m'\u001b[39m, \u001b[33m'\u001b[39m\u001b[33mtemp_soil_avg\u001b[39m\u001b[33m'\u001b[39m, \u001b[33m'\u001b[39m\u001b[33mwind_speed_10m\u001b[39m\u001b[33m'\u001b[39m, \u001b[33m'\u001b[39m\u001b[33mpressure\u001b[39m\u001b[33m'\u001b[39m]\n\u001b[32m----> \u001b[39m\u001b[32m2\u001b[39m weather = \u001b[43mweather\u001b[49m\u001b[43m[\u001b[49m\u001b[43mkeep_columns_weather\u001b[49m\u001b[43m]\u001b[49m\n",
      "\u001b[36mFile \u001b[39m\u001b[32m~\\Documents\\GITHUB\\belgian-load-forecasting\\venv\\Lib\\site-packages\\pandas\\core\\frame.py:4108\u001b[39m, in \u001b[36mDataFrame.__getitem__\u001b[39m\u001b[34m(self, key)\u001b[39m\n\u001b[32m   4106\u001b[39m     \u001b[38;5;28;01mif\u001b[39;00m is_iterator(key):\n\u001b[32m   4107\u001b[39m         key = \u001b[38;5;28mlist\u001b[39m(key)\n\u001b[32m-> \u001b[39m\u001b[32m4108\u001b[39m     indexer = \u001b[38;5;28;43mself\u001b[39;49m\u001b[43m.\u001b[49m\u001b[43mcolumns\u001b[49m\u001b[43m.\u001b[49m\u001b[43m_get_indexer_strict\u001b[49m\u001b[43m(\u001b[49m\u001b[43mkey\u001b[49m\u001b[43m,\u001b[49m\u001b[43m \u001b[49m\u001b[33;43m\"\u001b[39;49m\u001b[33;43mcolumns\u001b[39;49m\u001b[33;43m\"\u001b[39;49m\u001b[43m)\u001b[49m[\u001b[32m1\u001b[39m]\n\u001b[32m   4110\u001b[39m \u001b[38;5;66;03m# take() does not accept boolean indexers\u001b[39;00m\n\u001b[32m   4111\u001b[39m \u001b[38;5;28;01mif\u001b[39;00m \u001b[38;5;28mgetattr\u001b[39m(indexer, \u001b[33m\"\u001b[39m\u001b[33mdtype\u001b[39m\u001b[33m\"\u001b[39m, \u001b[38;5;28;01mNone\u001b[39;00m) == \u001b[38;5;28mbool\u001b[39m:\n",
      "\u001b[36mFile \u001b[39m\u001b[32m~\\Documents\\GITHUB\\belgian-load-forecasting\\venv\\Lib\\site-packages\\pandas\\core\\indexes\\base.py:6200\u001b[39m, in \u001b[36mIndex._get_indexer_strict\u001b[39m\u001b[34m(self, key, axis_name)\u001b[39m\n\u001b[32m   6197\u001b[39m \u001b[38;5;28;01melse\u001b[39;00m:\n\u001b[32m   6198\u001b[39m     keyarr, indexer, new_indexer = \u001b[38;5;28mself\u001b[39m._reindex_non_unique(keyarr)\n\u001b[32m-> \u001b[39m\u001b[32m6200\u001b[39m \u001b[38;5;28;43mself\u001b[39;49m\u001b[43m.\u001b[49m\u001b[43m_raise_if_missing\u001b[49m\u001b[43m(\u001b[49m\u001b[43mkeyarr\u001b[49m\u001b[43m,\u001b[49m\u001b[43m \u001b[49m\u001b[43mindexer\u001b[49m\u001b[43m,\u001b[49m\u001b[43m \u001b[49m\u001b[43maxis_name\u001b[49m\u001b[43m)\u001b[49m\n\u001b[32m   6202\u001b[39m keyarr = \u001b[38;5;28mself\u001b[39m.take(indexer)\n\u001b[32m   6203\u001b[39m \u001b[38;5;28;01mif\u001b[39;00m \u001b[38;5;28misinstance\u001b[39m(key, Index):\n\u001b[32m   6204\u001b[39m     \u001b[38;5;66;03m# GH 42790 - Preserve name from an Index\u001b[39;00m\n",
      "\u001b[36mFile \u001b[39m\u001b[32m~\\Documents\\GITHUB\\belgian-load-forecasting\\venv\\Lib\\site-packages\\pandas\\core\\indexes\\base.py:6252\u001b[39m, in \u001b[36mIndex._raise_if_missing\u001b[39m\u001b[34m(self, key, indexer, axis_name)\u001b[39m\n\u001b[32m   6249\u001b[39m     \u001b[38;5;28;01mraise\u001b[39;00m \u001b[38;5;167;01mKeyError\u001b[39;00m(\u001b[33mf\u001b[39m\u001b[33m\"\u001b[39m\u001b[33mNone of [\u001b[39m\u001b[38;5;132;01m{\u001b[39;00mkey\u001b[38;5;132;01m}\u001b[39;00m\u001b[33m] are in the [\u001b[39m\u001b[38;5;132;01m{\u001b[39;00maxis_name\u001b[38;5;132;01m}\u001b[39;00m\u001b[33m]\u001b[39m\u001b[33m\"\u001b[39m)\n\u001b[32m   6251\u001b[39m not_found = \u001b[38;5;28mlist\u001b[39m(ensure_index(key)[missing_mask.nonzero()[\u001b[32m0\u001b[39m]].unique())\n\u001b[32m-> \u001b[39m\u001b[32m6252\u001b[39m \u001b[38;5;28;01mraise\u001b[39;00m \u001b[38;5;167;01mKeyError\u001b[39;00m(\u001b[33mf\u001b[39m\u001b[33m\"\u001b[39m\u001b[38;5;132;01m{\u001b[39;00mnot_found\u001b[38;5;132;01m}\u001b[39;00m\u001b[33m not in index\u001b[39m\u001b[33m\"\u001b[39m)\n",
      "\u001b[31mKeyError\u001b[39m: \"['the_geom', 'precip_quantity', 'temp_soil_avg', 'wind_speed_10m'] not in index\""
     ]
    }
   ],
   "source": [
    "keep_columns_weather = ['the_geom', 'timestamp', 'precip_quantity', 'temp_soil_avg', 'wind_speed_10m', 'pressure']\n",
    "weather = weather[keep_columns_weather]"
   ]
  },
  {
   "cell_type": "markdown",
   "id": "237d5083-f08a-461a-82ab-48fe9ae11e1e",
   "metadata": {},
   "source": [
    "Since the coordinates are geographical, we rename them with the closest city. This is purely informative, since, as we show later, we aggregate the local data by averaging them on the whole country. We only keep the local measurements where less than $500$ points are missing."
   ]
  },
  {
   "cell_type": "code",
   "execution_count": 8,
   "id": "c49f7f8d-3617-4613-9a04-e0b26c5a0136",
   "metadata": {},
   "outputs": [],
   "source": [
    "weather[['lat', 'lon']] = weather['the_geom'].str.extract(r'POINT \\(([^ ]+) ([^ ]+)\\)').astype(float)\n",
    "weather['location'] = (weather['lat'].astype(str) + '_' + weather['lon'].astype(str)).str.replace('.', '_')\n",
    "weather['location'] = weather['location'].str.replace('49_62_5_587', 'Luxembourg')\n",
    "weather['location'] = weather['location'].str.replace('50_511_6_073', 'Fagnes')\n",
    "weather['location'] = weather['location'].str.replace('50_582_4_689', 'Gembloux')\n",
    "weather['location'] = weather['location'].str.replace('50_797_4_358', 'Bruxelles')\n",
    "weather['location'] = weather['location'].str.replace('50_916_5_45', 'Hasselt')\n",
    "weather['location'] = weather['location'].str.replace('51_348_3_202', 'ZeeBruges')\n",
    "weather['location'] = weather['location'].str.replace('50_194_5_255', 'Rochefort')\n",
    "weather['location'] = weather['location'].str.replace('50_904_3_122', 'Courtrai')\n",
    "weather['location'] = weather['location'].str.replace('50_096_4_595', 'Couvin')\n",
    "weather['location'] = weather['location'].str.replace('50_98_3_816', 'Gand')\n",
    "weather['location'] = weather['location'].str.replace('51_075_4_525', 'Malines')\n",
    "weather['location'] = weather['location'].str.replace('51_325_4_364', 'Anvers')\n",
    "weather['location'] = weather['location'].str.replace('51_221_5_027', 'Turnhout')\n",
    "weather = weather.drop(['lat', 'lon', 'the_geom'], axis=1)\n",
    "\n",
    "weather = weather.set_index(['timestamp', 'location']).unstack('location')\n",
    "weather.columns = ['_'.join(col).strip() for col in weather.columns.values]\n",
    "weather.reset_index(inplace=True)\n",
    "keep_weather_stats = weather.isna().sum()<500\n",
    "keep_weather_stats = keep_weather_stats[keep_weather_stats].index.tolist()\n",
    "weather = weather[keep_weather_stats].ffill().bfill()"
   ]
  },
  {
   "cell_type": "markdown",
   "id": "1e105efb-9390-4f31-a80a-056c7bbad0e2",
   "metadata": {},
   "source": [
    "Finally, inner-merging the weather dataset with the load/imbalance on the Datetime column implicitely downsamples the load/imbalance data to 1-hour granularity."
   ]
  },
  {
   "cell_type": "code",
   "execution_count": 9,
   "id": "fb48af45-c630-4462-a401-d9436e489aae",
   "metadata": {},
   "outputs": [],
   "source": [
    "full_data = pd.merge(load_prices, weather, left_on='Datetime', right_on='timestamp', how='inner').drop(\"timestamp\", axis=1)"
   ]
  },
  {
   "cell_type": "markdown",
   "id": "84d825b1-f716-47cf-a955-ef94e3970b58",
   "metadata": {},
   "source": [
    "In order to complete the missing data, we perform a forward fill and a backward fill."
   ]
  },
  {
   "cell_type": "code",
   "execution_count": 10,
   "id": "dc5567e8-ea69-43f2-9983-2b5cee971e72",
   "metadata": {},
   "outputs": [],
   "source": [
    "full_data = full_data.ffill().bfill()\n",
    "full_data = full_data.iloc[::-1].reset_index(drop=True)"
   ]
  },
  {
   "cell_type": "markdown",
   "id": "ae094f82-e5d0-4b44-a1f2-a8bb31002005",
   "metadata": {},
   "source": [
    "We add the target column, which is, for each timestep, the _Total Load_ value $30$ steps later. Since there will be meaningless missing data, we discard the $30$ last lines."
   ]
  },
  {
   "cell_type": "code",
   "execution_count": 11,
   "id": "bdbd95ee-8fca-4bbb-8e88-d618be9cafa9",
   "metadata": {},
   "outputs": [],
   "source": [
    "full_data[\"y\"] = full_data[\"Total Load\"].shift(-30)\n",
    "full_data = full_data.iloc[:-30]"
   ]
  },
  {
   "cell_type": "markdown",
   "id": "6a95808a-eb63-4f6f-b9f4-c92abbd71a7a",
   "metadata": {},
   "source": [
    "Finally, we extract the date informations from the Datetime column and we aggregate the local weather information."
   ]
  },
  {
   "cell_type": "code",
   "execution_count": 12,
   "id": "cff2ab26-3fe8-43d8-964c-04009d96e60d",
   "metadata": {},
   "outputs": [],
   "source": [
    "full_data[\"Year\"] = [i.year for i in full_data[\"Datetime\"]]\n",
    "full_data[\"Month\"] = [i.month for i in full_data[\"Datetime\"]]\n",
    "full_data[\"Day\"] = [i.day for i in full_data[\"Datetime\"]]\n",
    "full_data[\"Hour\"] = [i.hour for i in full_data[\"Datetime\"]]\n",
    "\n",
    "full_data[\"Temperature\"] = full_data[[i for i in full_data.columns if \"temp_soil_avg\" in i]].mean(axis=1)\n",
    "full_data[\"Pressure\"] = full_data[[i for i in full_data.columns if \"pressure\" in i]].mean(axis=1)\n",
    "full_data[\"Wind\"] = full_data[[i for i in full_data.columns if \"wind\" in i]].mean(axis=1)\n",
    "full_data[\"Precipitation\"] = full_data[[i for i in full_data.columns if \"precip\" in i]].mean(axis=1)"
   ]
  },
  {
   "cell_type": "markdown",
   "id": "0aa4b9d6-b13e-4b2c-bc44-f8f3e29ee0a3",
   "metadata": {},
   "source": [
    "We save the generated dataset:"
   ]
  },
  {
   "cell_type": "code",
   "execution_count": 13,
   "id": "69b52053-4f97-474f-95fc-ee26c9342f16",
   "metadata": {},
   "outputs": [],
   "source": [
    "full_data.to_csv(\"dataset.csv\")"
   ]
  },
  {
   "cell_type": "markdown",
   "id": "7e7d2eb1-bc38-4845-bbc7-47f8f61a4973",
   "metadata": {},
   "source": [
    "## Modeling\n",
    "The first part of the notebook can be avoided if the `dataset.csv` file has already been generated. We can load it:"
   ]
  },
  {
   "cell_type": "code",
   "execution_count": 14,
   "id": "8bc20bbc-8a25-4c28-8e43-fc5a18d71602",
   "metadata": {},
   "outputs": [],
   "source": [
    "data = pd.read_csv(\"dataset.csv\", index_col=0)"
   ]
  },
  {
   "cell_type": "markdown",
   "id": "582115da-cccb-48f4-b59e-9c4182e5d977",
   "metadata": {},
   "source": [
    "### Persistence study\n",
    "We can study how a simple persistent model would do. Of course, since we deal with data that might have periodicity, which previous timestep to make persist is an open question. We show that there are better timesteps to use:"
   ]
  },
  {
   "cell_type": "code",
   "execution_count": 15,
   "id": "41e24afb-42cb-49bf-9876-0f09a0e6124c",
   "metadata": {},
   "outputs": [
    {
     "data": {
      "application/vnd.jupyter.widget-view+json": {
       "model_id": "3ec5938acd184bc783aa7d3607d212e6",
       "version_major": 2,
       "version_minor": 0
      },
      "text/plain": [
       "  0%|          | 0/17520 [00:00<?, ?it/s]"
      ]
     },
     "metadata": {},
     "output_type": "display_data"
    }
   ],
   "source": [
    "rmse_by_lag = []\n",
    "\n",
    "for t in tqdm(range(365*2*24)):\n",
    "    shifted_total_load = data[\"Total Load\"].shift(t)\n",
    "    rmse_by_lag.append(np.sqrt(np.mean((data[\"y\"]-shifted_total_load)**2)))"
   ]
  },
  {
   "cell_type": "code",
   "execution_count": 16,
   "id": "37ca11c0-75b5-41f3-8b92-1e87bce4b943",
   "metadata": {},
   "outputs": [
    {
     "data": {
      "image/png": "[encoded data removed]",
      "text/plain": [
       "<Figure size 2000x500 with 5 Axes>"
      ]
     },
     "metadata": {},
     "output_type": "display_data"
    }
   ],
   "source": [
    "fig, ax = plt.subplots(1, 5, figsize=(20, 5))\n",
    "ax[0].plot(rmse_by_lag[:24])\n",
    "ax[0].set_title(\"Daily persistence\")\n",
    "ax[1].plot(rmse_by_lag[:24*7])\n",
    "ax[1].set_title(\"Weekly persistence\")\n",
    "ax[2].plot(rmse_by_lag[:24*31])\n",
    "ax[2].set_title(\"Monthly persistence\")\n",
    "ax[3].plot(rmse_by_lag[:24*365])\n",
    "ax[3].set_title(\"Yearly persistence\")\n",
    "ax[4].plot(rmse_by_lag[:24*365*2])\n",
    "ax[4].set_title(\"2-Yearly persistence\")\n",
    "plt.savefig(\"rmse_by_lag.png\")\n",
    "plt.show()"
   ]
  },
  {
   "cell_type": "markdown",
   "id": "6dcfc3d4-6a9d-4ce0-85ef-895048e2cff0",
   "metadata": {},
   "source": [
    "Which clearly shows that there is a daily, weekly and yearly cycle. The monthly cycle is way less clear. To be clearer: there are preferable lags to use if we want to use the persistent model, then there is an optimal previous timestep that we can output. We clearly see that the 1-week persistence is the best to use here (that is, outputting the Total Load one week before the forecasted point)."
   ]
  },
  {
   "cell_type": "markdown",
   "id": "a1c5389b-f8c0-421f-a26f-f147fc8dc82f",
   "metadata": {},
   "source": [
    "We can also see that there there is a monthly and yearly cycle. We decide therefore three things:\n",
    "- We will use 1-month long measurements as input of the ML architecture (those contain the week-before FH and the month-before FH measurements)\n",
    "- We will include the measurements made 1 year before (up to the FH) as input to the ML architecture\n",
    "- We will use the 1-week before the FH measurement as a baseline that we will modify using a ML architecture"
   ]
  },
  {
   "cell_type": "code",
   "execution_count": 17,
   "id": "79e4a929-5e7e-4c52-9b28-f6c41d04f36c",
   "metadata": {},
   "outputs": [],
   "source": [
    "data[\"Total Load 1 Year Before, to the FH\"] = data[\"Total Load\"].shift(24 * 365 + 30)\n",
    "\n",
    "data = data.iloc[365*24+30:]\n",
    "data = data.reset_index()"
   ]
  },
  {
   "cell_type": "code",
   "execution_count": 18,
   "id": "3806426d-48c4-4b3b-b30d-679bfd727c6a",
   "metadata": {},
   "outputs": [],
   "source": [
    "device = \"cuda\" if torch.cuda.is_available() else \"mps\""
   ]
  },
  {
   "cell_type": "code",
   "execution_count": 19,
   "id": "4777cdc6-cccb-4052-949a-39ebc7da46a6",
   "metadata": {},
   "outputs": [],
   "source": [
    "GENERATING = True"
   ]
  },
  {
   "cell_type": "markdown",
   "id": "dd5712d6-198e-45db-ae53-b938df4b9c9b",
   "metadata": {},
   "source": [
    "### Inputs preparation\n",
    "Our ML architecture will then take three inputs:\n",
    "- The Load information: that is, 31*28 points of\n",
    "    - The total load\n",
    "    - The total load 1 year (+30hours) earlier\n",
    "    - The system imbalance\n",
    "- The meteo information, that is, 31*28 points of\n",
    "    - The temperature\n",
    "    - The precipitations\n",
    "    - The wind speed\n",
    "    - The pressure\n",
    "- The persistent forecast, that is, the Total Load 1 week before the forecasted point"
   ]
  },
  {
   "cell_type": "code",
   "execution_count": 20,
   "id": "bc863b17-2296-4a1f-9601-cc2664d60218",
   "metadata": {},
   "outputs": [
    {
     "data": {
      "application/vnd.jupyter.widget-view+json": {
       "model_id": "6a03be3c8b0b4fe599480b47db177d6f",
       "version_major": 2,
       "version_minor": 0
      },
      "text/plain": [
       "  0%|          | 0/67567 [00:00<?, ?it/s]"
      ]
     },
     "metadata": {},
     "output_type": "display_data"
    }
   ],
   "source": [
    "if GENERATING:\n",
    "    X_load = []\n",
    "    X_meteo = []\n",
    "    X_baseline = []\n",
    "    Y_elia = []\n",
    "    Y = []\n",
    "    \n",
    "    t_features = 24*28\n",
    "    features_load = ['Total Load',  'Total Load 1 Year Before, to the FH', 'System imbalance']\n",
    "    features_meteo = ['Temperature', 'Precipitation', 'Wind', 'Pressure']\n",
    "    features_baseline = ['Total Load']\n",
    "    \n",
    "    for start in tqdm(range(len(data) - t_features + 1 - 30)):\n",
    "        X_load.append(data.iloc[start:start + t_features][features_load].values.T)\n",
    "        X_meteo.append(data.iloc[start:start + t_features][features_meteo].values.T)\n",
    "        X_baseline.append(data.iloc[start + t_features - 1 + 30 - 7 * 24][features_baseline].values.flatten())\n",
    "        Y_elia.append(data.iloc[start + t_features - 1 + 30]['Most recent forecast'])\n",
    "        Y.append(data.iloc[start + t_features - 1]['y'])\n",
    "        \n",
    "    X_load = torch.tensor(np.array(X_load, dtype=np.float32)).to(device)\n",
    "    X_meteo = torch.tensor(np.array(X_meteo, dtype=np.float32)).to(device)\n",
    "    X_baseline = torch.tensor(np.array(X_baseline, dtype=np.float32)).to(device)\n",
    "    Y_elia = torch.tensor(np.array(Y_elia, dtype=np.float32)).to(device)\n",
    "    Y = torch.tensor(np.array(Y, dtype=np.float32)).to(device)\n",
    "    torch.save(X_load, \"X_load.pt\")\n",
    "    torch.save(X_meteo, \"X_meteo.pt\")\n",
    "    torch.save(X_baseline, \"X_baseline.pt\")\n",
    "    torch.save(Y, \"Y.pt\")\n",
    "else:\n",
    "    X_load = torch.load(\"X_load.pt\", weights_only=True).to(device)\n",
    "    X_meteo = torch.load(\"X_meteo.pt\", weights_only=True).to(device)\n",
    "    X_baseline = torch.load(\"X_baseline.pt\", weights_only=True).to(device)\n",
    "    Y_elia = torch.load(\"Y_elia.pt\", weights_only=True).to(device)\n",
    "    Y = torch.load(\"Y.pt\", weights_only=True).to(device)"
   ]
  },
  {
   "cell_type": "markdown",
   "id": "df6d5b2d-758c-4f4b-83bb-2ed7f5c4b16d",
   "metadata": {},
   "source": [
    "### Model\n",
    "Our model then consists in three parts:\n",
    "- One CNN that extracts features from the load data\n",
    "    - Output vector size: (16,)\n",
    "- One CNN that extracts features from the weather data\n",
    "    - Output vector size: (16,)\n",
    "- One MLP that forecasts the 30-hours later Total Load, given\n",
    "    - The persistent value\n",
    "    - The two features vectors"
   ]
  },
  {
   "cell_type": "code",
   "execution_count": 21,
   "id": "87c2ffa0-c2ab-4fec-92fe-f2f39aae6d1b",
   "metadata": {},
   "outputs": [],
   "source": [
    "class ConvFeatureExtractor(nn.Module):\n",
    "    def __init__(self, mlp_size):\n",
    "        super(ConvFeatureExtractor, self).__init__()\n",
    "        self.conv = nn.Conv2d(in_channels=1, out_channels=8, kernel_size=3, padding=\"same\")\n",
    "        self.conv2 = nn.Conv2d(in_channels=8, out_channels=1, kernel_size=3, padding=\"same\")\n",
    "        self.l1 = nn.Linear(mlp_size, 512)\n",
    "        self.l2 = nn.Linear(512, 128)\n",
    "        self.l3 = nn.Linear(128, 16)\n",
    "        self.tanh = nn.Tanh()\n",
    "    \n",
    "    def forward(self, x):\n",
    "        x = x.unsqueeze(1)\n",
    "        x = self.conv(x)\n",
    "        x = self.tanh(x)\n",
    "        x = self.conv2(x)\n",
    "        x = self.tanh(x.reshape((x.shape[0], -1)))\n",
    "        x = self.tanh(self.l1(x))\n",
    "        x = self.tanh(self.l2(x))\n",
    "        x = self.l3(x)\n",
    "        return x\n",
    "            \n",
    "class ForecastModel(nn.Module):\n",
    "    def __init__(self):\n",
    "        super(ForecastModel, self).__init__()\n",
    "        self.feature_extractor_load = ConvFeatureExtractor(mlp_size=2016)\n",
    "        self.feature_extractor_meteo = ConvFeatureExtractor(mlp_size=2688)\n",
    "        self.l1 = nn.Linear(16*2, 1)\n",
    "    \n",
    "    def forward(self, x_load, x_meteo, x_baseline):\n",
    "        x = self.l1(torch.concatenate([self.feature_extractor_load(x_load), self.feature_extractor_meteo(x_meteo)], axis=1))\n",
    "        return (x + x_baseline).squeeze()"
   ]
  },
  {
   "cell_type": "markdown",
   "id": "48cec452-57c3-414a-a76a-563be4562c4f",
   "metadata": {},
   "source": [
    "In order to correctly evaluate the performances of our model, we include in the dataset the `Most recent forecast` provided by ELIA, so that the cross-validation procedure assesses the quality of both our architecture and the ELIA baseline."
   ]
  },
  {
   "cell_type": "code",
   "execution_count": 22,
   "id": "f1e0625a-4120-4d2c-8416-926df9d0425c",
   "metadata": {},
   "outputs": [],
   "source": [
    "class TimeSeriesDataset(Dataset):\n",
    "    def __init__(self, X_load, X_meteo, X_baseline, y_elia, y):\n",
    "        self.X_load = X_load\n",
    "        self.X_meteo = X_meteo\n",
    "        self.X_baseline = X_baseline\n",
    "        self.y_elia = y_elia\n",
    "        self.y = y\n",
    "    \n",
    "    def __len__(self):\n",
    "        return len(self.y)\n",
    "    \n",
    "    def __getitem__(self, idx):\n",
    "        return self.X_load[idx], self.X_meteo[idx], self.X_baseline[idx], self.y_elia[idx], self.y[idx]"
   ]
  },
  {
   "cell_type": "markdown",
   "id": "c4e9ace4-ef2d-4330-9581-1e906bb69ac7",
   "metadata": {},
   "source": [
    "We prepare a 5-fold cross-validation."
   ]
  },
  {
   "cell_type": "code",
   "execution_count": 23,
   "id": "318114c0-cf62-4021-ac03-1f0ed364b694",
   "metadata": {},
   "outputs": [],
   "source": [
    "dataset = TimeSeriesDataset(X_load, X_meteo, X_baseline, Y_elia, Y)\n",
    "kf = KFold(n_splits=5, shuffle=True, random_state=42)"
   ]
  },
  {
   "cell_type": "markdown",
   "id": "6cbe1936-2ebf-49a4-b027-478a7f88c23b",
   "metadata": {},
   "source": [
    "Finally, we train and evaluate the model. The NN is trained for 30 epochs at each fold of the cross-validation."
   ]
  },
  {
   "cell_type": "code",
   "execution_count": 24,
   "id": "c6edaee4-a743-49c3-a8da-401b3186a638",
   "metadata": {},
   "outputs": [
    {
     "data": {
      "application/vnd.jupyter.widget-view+json": {
       "model_id": "9e7046e1915945e0a03ca4044c26d696",
       "version_major": 2,
       "version_minor": 0
      },
      "text/plain": [
       "  0%|          | 0/30 [00:00<?, ?it/s]"
      ]
     },
     "metadata": {},
     "output_type": "display_data"
    },
    {
     "data": {
      "application/vnd.jupyter.widget-view+json": {
       "model_id": "b8f9a1142b6c44a4b58663ac75ff8908",
       "version_major": 2,
       "version_minor": 0
      },
      "text/plain": [
       "  0%|          | 0/30 [00:00<?, ?it/s]"
      ]
     },
     "metadata": {},
     "output_type": "display_data"
    },
    {
     "data": {
      "application/vnd.jupyter.widget-view+json": {
       "model_id": "9a740b40dd4b43529c77a68e5fe1f0bd",
       "version_major": 2,
       "version_minor": 0
      },
      "text/plain": [
       "  0%|          | 0/30 [00:00<?, ?it/s]"
      ]
     },
     "metadata": {},
     "output_type": "display_data"
    },
    {
     "data": {
      "application/vnd.jupyter.widget-view+json": {
       "model_id": "ef199e291b064f2db53803d0e436f6b1",
       "version_major": 2,
       "version_minor": 0
      },
      "text/plain": [
       "  0%|          | 0/30 [00:00<?, ?it/s]"
      ]
     },
     "metadata": {},
     "output_type": "display_data"
    },
    {
     "data": {
      "application/vnd.jupyter.widget-view+json": {
       "model_id": "03d2e4628350438b9d24e4b414996b29",
       "version_major": 2,
       "version_minor": 0
      },
      "text/plain": [
       "  0%|          | 0/30 [00:00<?, ?it/s]"
      ]
     },
     "metadata": {},
     "output_type": "display_data"
    }
   ],
   "source": [
    "torch.manual_seed(0)\n",
    "batch_size = 32\n",
    "val_losses = []\n",
    "val_losses_elia = []\n",
    "for fold, (train_idx, val_idx) in enumerate(kf.split(dataset)):\n",
    "    train_subset = Subset(dataset, train_idx)\n",
    "    val_subset = Subset(dataset, val_idx)\n",
    "    train_loader = DataLoader(train_subset, batch_size=batch_size, shuffle=True)\n",
    "    val_loader = DataLoader(val_subset, batch_size=batch_size, shuffle=False)\n",
    "    \n",
    "    model = ForecastModel().to(device)\n",
    "    criterion = nn.MSELoss()\n",
    "    optimizer = optim.Adam(model.parameters(), lr=0.0002)\n",
    "    lr_scheduler = optim.lr_scheduler.ReduceLROnPlateau(optimizer, factor=0.75, patience=5, threshold=3.)\n",
    "    \n",
    "    for epoch in (pbar:=tqdm(range(30))):\n",
    "        model.train()\n",
    "        losses = []\n",
    "        for x_load, x_meteo, x_baseline, _, y in train_loader:\n",
    "            optimizer.zero_grad()\n",
    "            outputs = model(x_load, x_meteo, x_baseline)\n",
    "            loss = criterion(outputs, y)\n",
    "            loss.backward()\n",
    "            optimizer.step()\n",
    "            losses.append(loss.item()**0.5)\n",
    "        lr_scheduler.step(np.mean(losses[-30:]))\n",
    "        \n",
    "        model.eval()\n",
    "        val_loss = []\n",
    "        val_loss_elia = []\n",
    "        with torch.no_grad():\n",
    "            for x_load, x_meteo, x_baseline, y_elia, y in val_loader:\n",
    "                if x_load.shape[0] == batch_size:\n",
    "                    outputs = model(x_load, x_meteo, x_baseline)\n",
    "                    val_loss.append(criterion(outputs, y).item()**0.5)\n",
    "                    val_loss_elia.append(criterion(y_elia, y).item()**0.5)\n",
    "        pbar.set_description(f\"Loss: {np.mean(val_loss):.2f}, Loss ELIA: {np.mean(val_loss_elia):.2f}\")\n",
    "    val_losses.append(np.mean(val_loss))\n",
    "    val_losses_elia.append(np.mean(val_loss_elia))"
   ]
  },
  {
   "cell_type": "markdown",
   "id": "dcec9aa8-e018-41f5-ab88-11b266e26b06",
   "metadata": {},
   "source": [
    "As we can see, our architecture outperforms ELIA:"
   ]
  },
  {
   "cell_type": "code",
   "execution_count": 25,
   "id": "46f55284-3520-455c-9c97-cbee3934910a",
   "metadata": {},
   "outputs": [
    {
     "name": "stdout",
     "output_type": "stream",
     "text": [
      "Losses ELIA:\t [217.98524940554768, 215.75221851331835, 218.7684333442405, 217.42466089778912, 220.107136726017]\n",
      "Losses NN:\t [174.59740974985561, 171.6421827363733, 169.27532104263977, 192.34430837625243, 159.0641980836237]\n",
      "Mean ELIA:\t 218.00753977738253\n",
      "Mean NN:\t 173.38468399774897\n"
     ]
    }
   ],
   "source": [
    "print(\"Losses ELIA:\\t\", val_losses_elia)\n",
    "print(\"Losses NN:\\t\", val_losses)\n",
    "print(\"Mean ELIA:\\t\", np.mean(val_losses_elia))\n",
    "print(\"Mean NN:\\t\", np.mean(val_losses))"
   ]
  },
  {
   "cell_type": "code",
   "execution_count": null,
   "id": "fe94b84e-7870-45f2-81f4-c49d08c030d7",
   "metadata": {},
   "outputs": [],
   "source": []
  }
 ],
 "metadata": {
  "kernelspec": {
   "display_name": "belgian-load-forecasting",
   "language": "python",
   "name": "belgian-load-forecasting"
  },
  "language_info": {
   "codemirror_mode": {
    "name": "ipython",
    "version": 3
   },
   "file_extension": ".py",
   "mimetype": "text/x-python",
   "name": "python",
   "nbconvert_exporter": "python",
   "pygments_lexer": "ipython3",
   "version": "3.11.6"
  }
 },
 "nbformat": 4,
 "nbformat_minor": 5
}
