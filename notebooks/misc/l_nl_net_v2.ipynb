{
 "cells": [
  {
   "cell_type": "code",
   "execution_count": 1,
   "metadata": {},
   "outputs": [
    {
     "name": "stderr",
     "output_type": "stream",
     "text": [
      "c:\\Users\\gmpal\\miniforge3\\envs\\tsw24\\Lib\\site-packages\\tqdm\\auto.py:21: TqdmWarning: IProgress not found. Please update jupyter and ipywidgets. See https://ipywidgets.readthedocs.io/en/stable/user_install.html\n",
      "  from .autonotebook import tqdm as notebook_tqdm\n"
     ]
    }
   ],
   "source": [
    "import pandas as pd \n",
    "import numpy as np\n",
    "from tqdm.auto import tqdm\n",
    "import pickle\n",
    "\n",
    "from utils import create_time_series_splits"
   ]
  },
  {
   "cell_type": "code",
   "execution_count": 2,
   "metadata": {},
   "outputs": [],
   "source": [
    "df = pd.read_csv('./preprocessed_data.csv', sep=',', parse_dates=['Datetime'], index_col=0)\n",
    "df.index = pd.to_datetime(df['Datetime'], utc=True)\n",
    "df.drop(columns=['Datetime'], inplace=True)\n",
    "df.dropna(inplace=True)\n",
    "to_remove = list(set(df.columns).difference({'Total Load', 'Most recent forecast','Day-ahead 6PM P10'}))"
   ]
  },
  {
   "cell_type": "code",
   "execution_count": 3,
   "metadata": {},
   "outputs": [],
   "source": [
    "excluded_columns = ['Total Load', 'Most recent forecast', 'Most recent P10',\n",
    "       'Most recent P90', 'Day-ahead 6PM forecast', 'Day-ahead 6PM P10',\n",
    "       'Day-ahead 6PM P90', 'Week-ahead forecast', 'Year', 'Month', 'Day',\n",
    "       'Hour', 'Minute', 'Season', 'Lockdown']"
   ]
  },
  {
   "cell_type": "code",
   "execution_count": 8,
   "metadata": {},
   "outputs": [],
   "source": [
    "num_splits = 20\n",
    "load_splits = True\n",
    "\n",
    "if load_splits:\n",
    "    with open('splits.pkl', 'rb') as f:\n",
    "        splits = pickle.load(f)\n",
    "\n",
    "else:\n",
    "    splits = create_time_series_splits(\n",
    "        data=df,\n",
    "        train_size_days=7*4, # 1 month for training (all times)\n",
    "        test_size_days=7*4, # 1 month for testing (only at 6pm)\n",
    "        num_splits=num_splits,\n",
    "        window_size_steps=4*6, # 6 hours window\n",
    "        exclude_columns=excluded_columns,\n",
    "        target_column='Total Load Interpolated',\n",
    "        prediction_horizon_steps=4*30, # 30 hours step ahead forecast\n",
    "        shifting_steps=1,\n",
    "        elia_column_to_return='Day-ahead 6PM forecast',\n",
    "        alignment_times=['18:00'],\n",
    "        n_jobs=num_splits\n",
    "    )\n",
    "\n",
    "    # pickle splits \n",
    "    with open('splits.pkl', 'wb') as f:\n",
    "        pickle.dump(splits, f)\n"
   ]
  },
  {
   "cell_type": "code",
   "execution_count": 11,
   "metadata": {},
   "outputs": [
    {
     "name": "stderr",
     "output_type": "stream",
     "text": [
      "100%|██████████| 20/20 [02:26<00:00,  7.35s/it]"
     ]
    },
    {
     "name": "stdout",
     "output_type": "stream",
     "text": [
      "LGBM MAPE: 0.09460139617083836\n",
      "MLP MAPE: 0.19425207229046465\n",
      "ELIA MAPE: 0.02340238163925255\n"
     ]
    },
    {
     "name": "stderr",
     "output_type": "stream",
     "text": [
      "\n"
     ]
    }
   ],
   "source": [
    "import lightgbm as lgb\n",
    "from sklearn.multioutput import MultiOutputRegressor\n",
    "from nets import SimpleMLPRegressor\n",
    "\n",
    "save_predictions = False\n",
    "save_trained_models = False\n",
    "\n",
    "mapes_lgbm = []\n",
    "mapes_mlp = []\n",
    "mapes_elia = []\n",
    "for split_idx in tqdm(range(num_splits)):\n",
    "\n",
    "    last_points = 4\n",
    "\n",
    "    X_train = splits[split_idx]['X_train'].to_numpy()\n",
    "    Y_train = splits[split_idx]['Y_train'].to_numpy()[:, -last_points:]\n",
    "    X_test = splits[split_idx]['X_test'].to_numpy()\n",
    "    Y_test = splits[split_idx]['Y_test'].to_numpy()[:, -last_points:]\n",
    "    ELIA_train = splits[split_idx]['ELIA_train'].to_numpy()[:, -last_points:]\n",
    "    ELIA_test = splits[split_idx]['ELIA_test'].to_numpy()[:, -last_points:]\n",
    "\n",
    "    lgb_model = lgb.LGBMRegressor(learning_rate=0.05, n_estimators=50, n_jobs=50, verbose=0)\n",
    "    model = MultiOutputRegressor(lgb_model)\n",
    "    model.fit(X_train, Y_train)\n",
    "\n",
    "    if save_trained_models:\n",
    "        with open(f'lgbm_model_{split_idx}.pkl', 'wb') as f:\n",
    "            pickle.dump(model, f)\n",
    "\n",
    "    Y_pred_lgbm = model.predict(X_test)\n",
    "\n",
    "    if save_predictions:\n",
    "        with open(f'lgbm_predictions_{split_idx}.pkl', 'wb') as f:\n",
    "            pickle.dump(Y_pred_lgbm, f)\n",
    "\n",
    "    model = SimpleMLPRegressor(epochs=100, verbose=False)\n",
    "    model.fit(X_train, Y_train)\n",
    "\n",
    "    if save_trained_models:\n",
    "        with open(f'mlp_model_{split_idx}.pkl', 'wb') as f:\n",
    "            pickle.dump(model, f)\n",
    "\n",
    "    Y_pred_mlp = model.predict(X_test)\n",
    "\n",
    "    if save_predictions: \n",
    "        with open(f'mlp_predictions_{split_idx}.pkl', 'wb') as f:\n",
    "            pickle.dump(Y_pred_mlp, f)\n",
    "\n",
    "    mape_lgbm = (abs(Y_pred_lgbm - Y_test) / Y_test).flatten()\n",
    "    mape_l_nl_net = (abs(Y_pred_mlp - Y_test) / Y_test).flatten()\n",
    "    mape_elia = (abs(ELIA_test - Y_test) / Y_test).flatten()\n",
    "\n",
    "    mapes_lgbm.append(mape_lgbm)\n",
    "    mapes_mlp.append(mape_l_nl_net)\n",
    "    mapes_elia.append(mape_elia)\n",
    "\n",
    "mapes_lgbm = np.array(mapes_lgbm)\n",
    "mapes_mlp = np.array(mapes_mlp)\n",
    "mapes_elia = np.array(mapes_elia)\n",
    "\n",
    "print('LGBM MAPE:', mapes_lgbm.mean())\n",
    "print('MLP MAPE:', mapes_mlp.mean())\n",
    "print('ELIA MAPE:', mapes_elia.mean())"
   ]
  },
  {
   "cell_type": "code",
   "execution_count": 16,
   "metadata": {},
   "outputs": [
    {
     "data": {
      "text/plain": [
       "Text(0.5, 1.0, 'MAPE of LGBM, L-NL-Net and ELIA')"
      ]
     },
     "execution_count": 16,
     "metadata": {},
     "output_type": "execute_result"
    },
    {
     "data": {
      "image/png": "[encoded data removed]",
      "text/plain": [
       "<Figure size 1000x600 with 1 Axes>"
      ]
     },
     "metadata": {},
     "output_type": "display_data"
    }
   ],
   "source": [
    "# boxplot 3 mapes \n",
    "import matplotlib.pyplot as plt\n",
    "import seaborn as sns\n",
    "import pandas as pd\n",
    "\n",
    "\n",
    "df = pd.DataFrame({\n",
    "    'Model': ['LGBM']*len(mapes_lgbm.flatten()) + ['L-NL-Net']*len(mapes_mlp.flatten()) + ['ELIA']*len(mapes_elia.flatten()),\n",
    "    'MAPE': np.concatenate([mapes_lgbm.flatten(), mapes_mlp.flatten(), mapes_elia.flatten()])\n",
    "})\n",
    "\n",
    "plt.figure(figsize=(10, 6))\n",
    "sns.boxplot(data=df, x='Model', y='MAPE')\n",
    "plt.ylabel('MAPE')\n",
    "plt.xlabel('Model')\n",
    "plt.title('MAPE of LGBM, L-NL-Net and ELIA')\n"
   ]
  }
 ],
 "metadata": {
  "kernelspec": {
   "display_name": "Python 3 (ipykernel)",
   "language": "python",
   "name": "python3"
  },
  "language_info": {
   "codemirror_mode": {
    "name": "ipython",
    "version": 3
   },
   "file_extension": ".py",
   "mimetype": "text/x-python",
   "name": "python",
   "nbconvert_exporter": "python",
   "pygments_lexer": "ipython3",
   "version": "3.11.6"
  }
 },
 "nbformat": 4,
 "nbformat_minor": 4
}
