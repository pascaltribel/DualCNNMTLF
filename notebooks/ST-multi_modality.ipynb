{
 "cells": [
  {
   "cell_type": "markdown",
   "id": "8e75cc83-8e40-4399-ad8d-1bd6092ecfd0",
   "metadata": {},
   "source": [
    "# Short Term Forecasting"
   ]
  },
  {
   "cell_type": "code",
   "execution_count": 1,
   "id": "b508bdb4-3161-4f3e-9aaa-57da1254ba3d",
   "metadata": {},
   "outputs": [],
   "source": [
    "import pandas as pd\n",
    "import matplotlib.pyplot as plt\n",
    "import numpy as np\n",
    "from tqdm.auto import tqdm\n",
    "from sklearn.multioutput import MultiOutputRegressor\n",
    "from sklearn.linear_model import LinearRegression\n",
    "from sklearn.tree import DecisionTreeRegressor\n",
    "from nets import SimpleMLPRegressor, CNNRegressor\n",
    "from lightgbm import LGBMRegressor\n",
    "from utils import create_time_series_splits, read_df, mape"
   ]
  },
  {
   "cell_type": "code",
   "execution_count": 3,
   "id": "6fb5e256-082f-4716-a3f5-88d58a23c013",
   "metadata": {},
   "outputs": [],
   "source": [
    "excluded_columns = ['Total Load', 'Most recent forecast', 'Most recent P10',\n",
    "       'Most recent P90', 'Day-ahead 6PM forecast', 'Day-ahead 6PM P10',\n",
    "       'Day-ahead 6PM P90', 'Week-ahead forecast', 'Year', 'Month', 'Day',\n",
    "       'Hour', 'Minute', 'Season', 'Lockdown', 'Previous_24h', \"Previous_7days\"]"
   ]
  },
  {
   "cell_type": "code",
   "execution_count": null,
   "id": "18c514f7-c3d5-4c2d-aadc-1a730a37c99b",
   "metadata": {},
   "outputs": [],
   "source": [
    "num_splits = 5\n",
    "splits = create_time_series_splits(\n",
    "    data=read_df('data/preprocessed_data_multimodality_18032025.csv'),\n",
    "    train_size_days=7*4*24,\n",
    "    test_size_days=7*4,\n",
    "    num_splits=num_splits,\n",
    "    window_size_steps=4*30,\n",
    "    exclude_columns=excluded_columns,\n",
    "    target_column='Total Load Interpolated',\n",
    "    prediction_horizon_steps=4*30,\n",
    "    shifting_steps=1,\n",
    "    elia_column_to_return='Day-ahead 6PM forecast',\n",
    "    alignment_times=['18:00']\n",
    ")"
   ]
  },
  {
   "cell_type": "code",
   "execution_count": 10,
   "id": "f7ae267f-1252-42b1-bb28-2966a4eb88e0",
   "metadata": {},
   "outputs": [],
   "source": [
    "models = [LinearRegression, DecisionTreeRegressor, MultiOutputRegressor, SimpleMLPRegressor, CNNRegressor]\n",
    "params = {\"LinearRegression\": {},\n",
    "          \"DecisionTreeRegressor\": {},\n",
    "          \"MultiOutputRegressor\": {'estimator': LGBMRegressor(verbose= -1)},\n",
    "          \"SimpleMLPRegressor\": {'device': 'mps', 'epochs': 150, 'verbose': True},\n",
    "          \"CNNRegressor\": {'device': 'mps', 'epochs': 150, 'verbose': True}}"
   ]
  },
  {
   "cell_type": "code",
   "execution_count": 12,
   "id": "2e9ccf8b-fdaa-470c-a662-477e4ff8dd66",
   "metadata": {},
   "outputs": [
    {
     "data": {
      "application/vnd.jupyter.widget-view+json": {
       "model_id": "8a285f6c0cd74685bf8cc3508e30c541",
       "version_major": 2,
       "version_minor": 0
      },
      "text/plain": [
       "  0%|          | 0/5 [00:00<?, ?it/s]"
      ]
     },
     "metadata": {},
     "output_type": "display_data"
    },
    {
     "name": "stdout",
     "output_type": "stream",
     "text": [
      "LinearRegression 4.660998189941622\n"
     ]
    },
    {
     "data": {
      "application/vnd.jupyter.widget-view+json": {
       "model_id": "9f8debc89d3d4f4fa0704a92590a4014",
       "version_major": 2,
       "version_minor": 0
      },
      "text/plain": [
       "  0%|          | 0/5 [00:00<?, ?it/s]"
      ]
     },
     "metadata": {},
     "output_type": "display_data"
    },
    {
     "name": "stdout",
     "output_type": "stream",
     "text": [
      "DecisionTreeRegressor 5.810599359422913\n"
     ]
    },
    {
     "data": {
      "application/vnd.jupyter.widget-view+json": {
       "model_id": "a8f292804df84905ae6f96044f0f6d96",
       "version_major": 2,
       "version_minor": 0
      },
      "text/plain": [
       "  0%|          | 0/5 [00:00<?, ?it/s]"
      ]
     },
     "metadata": {},
     "output_type": "display_data"
    },
    {
     "name": "stdout",
     "output_type": "stream",
     "text": [
      "MultiOutputRegressor 3.7743560460944026\n"
     ]
    },
    {
     "data": {
      "application/vnd.jupyter.widget-view+json": {
       "model_id": "26d28a656ede4b6c95509b46df1f64b9",
       "version_major": 2,
       "version_minor": 0
      },
      "text/plain": [
       "  0%|          | 0/5 [00:00<?, ?it/s]"
      ]
     },
     "metadata": {},
     "output_type": "display_data"
    },
    {
     "data": {
      "application/vnd.jupyter.widget-view+json": {
       "model_id": "f957986bf0d642f4b5fd765241272d69",
       "version_major": 2,
       "version_minor": 0
      },
      "text/plain": [
       "Training epochs:   0%|          | 0/150 [00:00<?, ?it/s]"
      ]
     },
     "metadata": {},
     "output_type": "display_data"
    },
    {
     "data": {
      "application/vnd.jupyter.widget-view+json": {
       "model_id": "8426ee616dff4f15aa3c402bfd70706f",
       "version_major": 2,
       "version_minor": 0
      },
      "text/plain": [
       "Training epochs:   0%|          | 0/150 [00:00<?, ?it/s]"
      ]
     },
     "metadata": {},
     "output_type": "display_data"
    },
    {
     "data": {
      "application/vnd.jupyter.widget-view+json": {
       "model_id": "844d38a18a574562b46b6b54e4ca83f1",
       "version_major": 2,
       "version_minor": 0
      },
      "text/plain": [
       "Training epochs:   0%|          | 0/150 [00:00<?, ?it/s]"
      ]
     },
     "metadata": {},
     "output_type": "display_data"
    },
    {
     "data": {
      "application/vnd.jupyter.widget-view+json": {
       "model_id": "3a67010da4074a77b75b4bb5acbaf6f0",
       "version_major": 2,
       "version_minor": 0
      },
      "text/plain": [
       "Training epochs:   0%|          | 0/150 [00:00<?, ?it/s]"
      ]
     },
     "metadata": {},
     "output_type": "display_data"
    },
    {
     "data": {
      "application/vnd.jupyter.widget-view+json": {
       "model_id": "874391c234914e49b36b6e58ddce293a",
       "version_major": 2,
       "version_minor": 0
      },
      "text/plain": [
       "Training epochs:   0%|          | 0/150 [00:00<?, ?it/s]"
      ]
     },
     "metadata": {},
     "output_type": "display_data"
    },
    {
     "name": "stdout",
     "output_type": "stream",
     "text": [
      "SimpleMLPRegressor 4.142328416873934\n"
     ]
    },
    {
     "data": {
      "application/vnd.jupyter.widget-view+json": {
       "model_id": "01504f621c334366a1886abeb590f98f",
       "version_major": 2,
       "version_minor": 0
      },
      "text/plain": [
       "  0%|          | 0/5 [00:00<?, ?it/s]"
      ]
     },
     "metadata": {},
     "output_type": "display_data"
    },
    {
     "data": {
      "application/vnd.jupyter.widget-view+json": {
       "model_id": "53b7ecde15e84cf69cf9d99b73ee77b7",
       "version_major": 2,
       "version_minor": 0
      },
      "text/plain": [
       "Training epochs:   0%|          | 0/150 [00:00<?, ?it/s]"
      ]
     },
     "metadata": {},
     "output_type": "display_data"
    },
    {
     "data": {
      "application/vnd.jupyter.widget-view+json": {
       "model_id": "db69dbc71c5d4d1fa201c29dbd7b4d62",
       "version_major": 2,
       "version_minor": 0
      },
      "text/plain": [
       "Training epochs:   0%|          | 0/150 [00:00<?, ?it/s]"
      ]
     },
     "metadata": {},
     "output_type": "display_data"
    },
    {
     "data": {
      "application/vnd.jupyter.widget-view+json": {
       "model_id": "2b516c5773304ef5a9623bd34e345030",
       "version_major": 2,
       "version_minor": 0
      },
      "text/plain": [
       "Training epochs:   0%|          | 0/150 [00:00<?, ?it/s]"
      ]
     },
     "metadata": {},
     "output_type": "display_data"
    },
    {
     "data": {
      "application/vnd.jupyter.widget-view+json": {
       "model_id": "bdbfe713dae642e4bfeb824a4e0d8a74",
       "version_major": 2,
       "version_minor": 0
      },
      "text/plain": [
       "Training epochs:   0%|          | 0/150 [00:00<?, ?it/s]"
      ]
     },
     "metadata": {},
     "output_type": "display_data"
    },
    {
     "data": {
      "application/vnd.jupyter.widget-view+json": {
       "model_id": "f49f184de91c48c69854fefaf83b5b9d",
       "version_major": 2,
       "version_minor": 0
      },
      "text/plain": [
       "Training epochs:   0%|          | 0/150 [00:00<?, ?it/s]"
      ]
     },
     "metadata": {},
     "output_type": "display_data"
    },
    {
     "name": "stdout",
     "output_type": "stream",
     "text": [
      "CNNRegressor 4.194132938069397\n"
     ]
    }
   ],
   "source": [
    "errors = {}\n",
    "for m in models:\n",
    "    errors[m.__name__] = []\n",
    "    mapes = []\n",
    "    mapes_ELIA = []\n",
    "    for split_idx in tqdm(range(num_splits)):\n",
    "        X_train = splits[split_idx]['X_train'].to_numpy()\n",
    "        Y_train = splits[split_idx]['Y_train'].to_numpy()\n",
    "        X_test = splits[split_idx]['X_test'].to_numpy()\n",
    "        Y_test = splits[split_idx]['Y_test'].to_numpy()\n",
    "        min_X_train, max_X_train = np.min(X_train), np.max(X_train)\n",
    "        min_Y_train, max_Y_train = np.min(Y_train), np.max(Y_train)\n",
    "        X_train, Y_train = (X_train-min_X_train)/(max_X_train-min_X_train), (Y_train-min_Y_train)/(max_Y_train-min_Y_train)\n",
    "        X_test = (X_test-min_X_train)/(max_X_train-min_X_train)\n",
    "        ELIA_train = splits[split_idx]['ELIA_train'].to_numpy()\n",
    "        ELIA_test = splits[split_idx]['ELIA_test'].to_numpy()\n",
    "        model = m(**params[m.__name__])\n",
    "        model.fit(X_train, Y_train)\n",
    "        Y_pred = (model.predict(X_test)*(max_Y_train-min_Y_train))+min_Y_train\n",
    "        errors[m.__name__].append(mape(Y_pred, Y_test))\n",
    "        mapes_ELIA.append(mape(ELIA_test, Y_test))\n",
    "    print(m.__name__, np.mean(errors[m.__name__]))\n",
    "errors[\"ELIA\"] = mapes_ELIA"
   ]
  },
  {
   "cell_type": "code",
   "execution_count": 13,
   "id": "809c4008-3ad5-4450-a438-f7dc108d5d13",
   "metadata": {},
   "outputs": [
    {
     "data": {
      "text/html": [
       "<div>\n",
       "<style scoped>\n",
       "    .dataframe tbody tr th:only-of-type {\n",
       "        vertical-align: middle;\n",
       "    }\n",
       "\n",
       "    .dataframe tbody tr th {\n",
       "        vertical-align: top;\n",
       "    }\n",
       "\n",
       "    .dataframe thead th {\n",
       "        text-align: right;\n",
       "    }\n",
       "</style>\n",
       "<table border=\"1\" class=\"dataframe\">\n",
       "  <thead>\n",
       "    <tr style=\"text-align: right;\">\n",
       "      <th></th>\n",
       "      <th>LinearRegression</th>\n",
       "      <th>DecisionTreeRegressor</th>\n",
       "      <th>MultiOutputRegressor</th>\n",
       "      <th>SimpleMLPRegressor</th>\n",
       "      <th>CNNRegressor</th>\n",
       "      <th>ELIA</th>\n",
       "    </tr>\n",
       "  </thead>\n",
       "  <tbody>\n",
       "    <tr>\n",
       "      <th>mean</th>\n",
       "      <td>4.660998</td>\n",
       "      <td>5.810599</td>\n",
       "      <td>3.774356</td>\n",
       "      <td>4.142328</td>\n",
       "      <td>4.194133</td>\n",
       "      <td>2.354688</td>\n",
       "    </tr>\n",
       "    <tr>\n",
       "      <th>std</th>\n",
       "      <td>0.298252</td>\n",
       "      <td>1.520680</td>\n",
       "      <td>0.319587</td>\n",
       "      <td>0.570675</td>\n",
       "      <td>0.995691</td>\n",
       "      <td>0.536661</td>\n",
       "    </tr>\n",
       "  </tbody>\n",
       "</table>\n",
       "</div>"
      ],
      "text/plain": [
       "      LinearRegression  DecisionTreeRegressor  MultiOutputRegressor  \\\n",
       "mean          4.660998               5.810599              3.774356   \n",
       "std           0.298252               1.520680              0.319587   \n",
       "\n",
       "      SimpleMLPRegressor  CNNRegressor      ELIA  \n",
       "mean            4.142328      4.194133  2.354688  \n",
       "std             0.570675      0.995691  0.536661  "
      ]
     },
     "execution_count": 13,
     "metadata": {},
     "output_type": "execute_result"
    }
   ],
   "source": [
    "results = pd.DataFrame(errors)\n",
    "results.describe().loc[[\"mean\", \"std\"]]"
   ]
  },
  {
   "cell_type": "code",
   "execution_count": 2,
   "id": "ee90d6c1-7438-4a3c-8e06-45eef7bee63c",
   "metadata": {},
   "outputs": [
    {
     "name": "stdout",
     "output_type": "stream",
     "text": [
      "1 4\n",
      "2 5\n",
      "3 6\n"
     ]
    }
   ],
   "source": [
    "for a,b in zip([1, 2, 3], [4, 5, 6]):\n",
    "    print(a, b)"
   ]
  }
 ],
 "metadata": {
  "kernelspec": {
   "display_name": "belgian-load-forecasting",
   "language": "python",
   "name": "belgian-load-forecasting"
  },
  "language_info": {
   "codemirror_mode": {
    "name": "ipython",
    "version": 3
   },
   "file_extension": ".py",
   "mimetype": "text/x-python",
   "name": "python",
   "nbconvert_exporter": "python",
   "pygments_lexer": "ipython3",
   "version": "3.11.6"
  }
 },
 "nbformat": 4,
 "nbformat_minor": 5
}
